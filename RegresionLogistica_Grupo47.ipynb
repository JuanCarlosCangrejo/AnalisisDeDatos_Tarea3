{
 "cells": [
  {
   "cell_type": "markdown",
   "id": "3ff119a4-ca83-4ed9-bedd-70596244b576",
   "metadata": {},
   "source": [
    "# 1. Realizar un análisis exploratorio de los datos para identificar relaciones entre variables, valores atípicos, tendencias, etc."
   ]
  },
  {
   "cell_type": "code",
   "execution_count": 104,
   "id": "2e2babaf-69f8-4bbe-a7a7-a30ffe03c35a",
   "metadata": {},
   "outputs": [],
   "source": [
    "#Cargar las librerias necesrias\n",
    "\n",
    "import pandas as pd # Manejo y análisis de estructuras de datos\n",
    "import numpy as np # Cálculo numérico y el análisis de datos\n",
    "import seaborn as sns # Creación gráficos estadísticos\n",
    "import matplotlib.pyplot as plt # Creación de gráficos en dos dimensiones\n",
    "\n",
    "# librerías de para implementar modelos de ciencia de datos\n",
    "from sklearn import metrics\n",
    "from sklearn.model_selection import train_test_split\n",
    "from sklearn.linear_model import LogisticRegression\n",
    "from sklearn.metrics import classification_report, confusion_matrix"
   ]
  },
  {
   "cell_type": "code",
   "execution_count": 105,
   "id": "e8c211d3-5602-4df6-a4e8-f312ef7cedaa",
   "metadata": {},
   "outputs": [],
   "source": [
    "# lectura de datos en Python y lo cargamos en la variable dfCorazon\n",
    "\n",
    "dfCorazon = pd.read_csv('G:/Mi unidad/PUBLIC/UNAD/Semestres/S6/AnalisisDeDatos/T3_Trabajo_COL_17042024/RegresionLogistica/heart_cleveland_upload.csv')"
   ]
  },
  {
   "cell_type": "code",
   "execution_count": 106,
   "id": "cb2fd348-bfef-4eb1-8d31-76c8444a2090",
   "metadata": {},
   "outputs": [
    {
     "data": {
      "text/html": [
       "<div>\n",
       "<style scoped>\n",
       "    .dataframe tbody tr th:only-of-type {\n",
       "        vertical-align: middle;\n",
       "    }\n",
       "\n",
       "    .dataframe tbody tr th {\n",
       "        vertical-align: top;\n",
       "    }\n",
       "\n",
       "    .dataframe thead th {\n",
       "        text-align: right;\n",
       "    }\n",
       "</style>\n",
       "<table border=\"1\" class=\"dataframe\">\n",
       "  <thead>\n",
       "    <tr style=\"text-align: right;\">\n",
       "      <th></th>\n",
       "      <th>age</th>\n",
       "      <th>sex</th>\n",
       "      <th>cp</th>\n",
       "      <th>trestbps</th>\n",
       "      <th>chol</th>\n",
       "      <th>fbs</th>\n",
       "      <th>restecg</th>\n",
       "      <th>thalach</th>\n",
       "      <th>exang</th>\n",
       "      <th>oldpeak</th>\n",
       "      <th>slope</th>\n",
       "      <th>ca</th>\n",
       "      <th>thal</th>\n",
       "      <th>condition</th>\n",
       "    </tr>\n",
       "  </thead>\n",
       "  <tbody>\n",
       "    <tr>\n",
       "      <th>0</th>\n",
       "      <td>69</td>\n",
       "      <td>1</td>\n",
       "      <td>0</td>\n",
       "      <td>160</td>\n",
       "      <td>234</td>\n",
       "      <td>1</td>\n",
       "      <td>2</td>\n",
       "      <td>131</td>\n",
       "      <td>0</td>\n",
       "      <td>0.1</td>\n",
       "      <td>1</td>\n",
       "      <td>1</td>\n",
       "      <td>0</td>\n",
       "      <td>0</td>\n",
       "    </tr>\n",
       "    <tr>\n",
       "      <th>1</th>\n",
       "      <td>69</td>\n",
       "      <td>0</td>\n",
       "      <td>0</td>\n",
       "      <td>140</td>\n",
       "      <td>239</td>\n",
       "      <td>0</td>\n",
       "      <td>0</td>\n",
       "      <td>151</td>\n",
       "      <td>0</td>\n",
       "      <td>1.8</td>\n",
       "      <td>0</td>\n",
       "      <td>2</td>\n",
       "      <td>0</td>\n",
       "      <td>0</td>\n",
       "    </tr>\n",
       "    <tr>\n",
       "      <th>2</th>\n",
       "      <td>66</td>\n",
       "      <td>0</td>\n",
       "      <td>0</td>\n",
       "      <td>150</td>\n",
       "      <td>226</td>\n",
       "      <td>0</td>\n",
       "      <td>0</td>\n",
       "      <td>114</td>\n",
       "      <td>0</td>\n",
       "      <td>2.6</td>\n",
       "      <td>2</td>\n",
       "      <td>0</td>\n",
       "      <td>0</td>\n",
       "      <td>0</td>\n",
       "    </tr>\n",
       "    <tr>\n",
       "      <th>3</th>\n",
       "      <td>65</td>\n",
       "      <td>1</td>\n",
       "      <td>0</td>\n",
       "      <td>138</td>\n",
       "      <td>282</td>\n",
       "      <td>1</td>\n",
       "      <td>2</td>\n",
       "      <td>174</td>\n",
       "      <td>0</td>\n",
       "      <td>1.4</td>\n",
       "      <td>1</td>\n",
       "      <td>1</td>\n",
       "      <td>0</td>\n",
       "      <td>1</td>\n",
       "    </tr>\n",
       "    <tr>\n",
       "      <th>4</th>\n",
       "      <td>64</td>\n",
       "      <td>1</td>\n",
       "      <td>0</td>\n",
       "      <td>110</td>\n",
       "      <td>211</td>\n",
       "      <td>0</td>\n",
       "      <td>2</td>\n",
       "      <td>144</td>\n",
       "      <td>1</td>\n",
       "      <td>1.8</td>\n",
       "      <td>1</td>\n",
       "      <td>0</td>\n",
       "      <td>0</td>\n",
       "      <td>0</td>\n",
       "    </tr>\n",
       "    <tr>\n",
       "      <th>5</th>\n",
       "      <td>64</td>\n",
       "      <td>1</td>\n",
       "      <td>0</td>\n",
       "      <td>170</td>\n",
       "      <td>227</td>\n",
       "      <td>0</td>\n",
       "      <td>2</td>\n",
       "      <td>155</td>\n",
       "      <td>0</td>\n",
       "      <td>0.6</td>\n",
       "      <td>1</td>\n",
       "      <td>0</td>\n",
       "      <td>2</td>\n",
       "      <td>0</td>\n",
       "    </tr>\n",
       "    <tr>\n",
       "      <th>6</th>\n",
       "      <td>63</td>\n",
       "      <td>1</td>\n",
       "      <td>0</td>\n",
       "      <td>145</td>\n",
       "      <td>233</td>\n",
       "      <td>1</td>\n",
       "      <td>2</td>\n",
       "      <td>150</td>\n",
       "      <td>0</td>\n",
       "      <td>2.3</td>\n",
       "      <td>2</td>\n",
       "      <td>0</td>\n",
       "      <td>1</td>\n",
       "      <td>0</td>\n",
       "    </tr>\n",
       "    <tr>\n",
       "      <th>7</th>\n",
       "      <td>61</td>\n",
       "      <td>1</td>\n",
       "      <td>0</td>\n",
       "      <td>134</td>\n",
       "      <td>234</td>\n",
       "      <td>0</td>\n",
       "      <td>0</td>\n",
       "      <td>145</td>\n",
       "      <td>0</td>\n",
       "      <td>2.6</td>\n",
       "      <td>1</td>\n",
       "      <td>2</td>\n",
       "      <td>0</td>\n",
       "      <td>1</td>\n",
       "    </tr>\n",
       "    <tr>\n",
       "      <th>8</th>\n",
       "      <td>60</td>\n",
       "      <td>0</td>\n",
       "      <td>0</td>\n",
       "      <td>150</td>\n",
       "      <td>240</td>\n",
       "      <td>0</td>\n",
       "      <td>0</td>\n",
       "      <td>171</td>\n",
       "      <td>0</td>\n",
       "      <td>0.9</td>\n",
       "      <td>0</td>\n",
       "      <td>0</td>\n",
       "      <td>0</td>\n",
       "      <td>0</td>\n",
       "    </tr>\n",
       "    <tr>\n",
       "      <th>9</th>\n",
       "      <td>59</td>\n",
       "      <td>1</td>\n",
       "      <td>0</td>\n",
       "      <td>178</td>\n",
       "      <td>270</td>\n",
       "      <td>0</td>\n",
       "      <td>2</td>\n",
       "      <td>145</td>\n",
       "      <td>0</td>\n",
       "      <td>4.2</td>\n",
       "      <td>2</td>\n",
       "      <td>0</td>\n",
       "      <td>2</td>\n",
       "      <td>0</td>\n",
       "    </tr>\n",
       "  </tbody>\n",
       "</table>\n",
       "</div>"
      ],
      "text/plain": [
       "   age  sex  cp  trestbps  chol  fbs  restecg  thalach  exang  oldpeak  slope  \\\n",
       "0   69    1   0       160   234    1        2      131      0      0.1      1   \n",
       "1   69    0   0       140   239    0        0      151      0      1.8      0   \n",
       "2   66    0   0       150   226    0        0      114      0      2.6      2   \n",
       "3   65    1   0       138   282    1        2      174      0      1.4      1   \n",
       "4   64    1   0       110   211    0        2      144      1      1.8      1   \n",
       "5   64    1   0       170   227    0        2      155      0      0.6      1   \n",
       "6   63    1   0       145   233    1        2      150      0      2.3      2   \n",
       "7   61    1   0       134   234    0        0      145      0      2.6      1   \n",
       "8   60    0   0       150   240    0        0      171      0      0.9      0   \n",
       "9   59    1   0       178   270    0        2      145      0      4.2      2   \n",
       "\n",
       "   ca  thal  condition  \n",
       "0   1     0          0  \n",
       "1   2     0          0  \n",
       "2   0     0          0  \n",
       "3   1     0          1  \n",
       "4   0     0          0  \n",
       "5   0     2          0  \n",
       "6   0     1          0  \n",
       "7   2     0          1  \n",
       "8   0     0          0  \n",
       "9   0     2          0  "
      ]
     },
     "execution_count": 106,
     "metadata": {},
     "output_type": "execute_result"
    }
   ],
   "source": [
    "# Realizamos lectura de dfCorazon para el análisis exploratorio\n",
    "\n",
    "dfCorazon.head(10)"
   ]
  },
  {
   "cell_type": "markdown",
   "id": "397481da-571c-478d-ab66-927f54b150fc",
   "metadata": {},
   "source": [
    "### Descripción de las variables:\r\n",
    "\r\n",
    "- age: edad\r\n",
    "- sex: sexo\r\n",
    "- cp: tipo de dolor de pecho (angina)\r\n",
    "- trestbps: presión arterial en reposo (en mmHg)\r\n",
    "- chol: nivel de colesterol en suero (en mg/dl)\r\n",
    "- fbs: nivel de azúcar en sangre en ayunas > 120 mg/dl (1 = verdadero; 0 = falso)\r\n",
    "- restecg: resultados electrocardiográficos en reposo\r\n",
    "- thalach: frecuencia cardíaca máxima alcanzada\r\n",
    "- exang: angina inducida por el ejercicio (1 = sí; 0 = no)\r\n",
    "- oldpeak: depresión del ST inducida por el ejercicio en comparación con el reposo\r\n",
    "- slope: la pendiente del segmento pico del ejercicio ST\r\n",
    "- ca: número de vasos principales (0-3) coloreados por la fluoroscopia\r\n",
    "- thal: 3 = normal; 6 = defecto fijo; 7 = defecto reversible\r\n",
    "- condition: condición (presencia o ausencia de enfer)\r\n",
    "dad cardíaca)"
   ]
  },
  {
   "cell_type": "markdown",
   "id": "e21ce2d6-e0e3-4814-9f05-baa60440c4fb",
   "metadata": {},
   "source": [
    "### Descripción de los datos:"
   ]
  },
  {
   "cell_type": "code",
   "execution_count": 107,
   "id": "f602eabe-44d7-4291-816e-336692a04834",
   "metadata": {},
   "outputs": [
    {
     "data": {
      "text/html": [
       "<div>\n",
       "<style scoped>\n",
       "    .dataframe tbody tr th:only-of-type {\n",
       "        vertical-align: middle;\n",
       "    }\n",
       "\n",
       "    .dataframe tbody tr th {\n",
       "        vertical-align: top;\n",
       "    }\n",
       "\n",
       "    .dataframe thead th {\n",
       "        text-align: right;\n",
       "    }\n",
       "</style>\n",
       "<table border=\"1\" class=\"dataframe\">\n",
       "  <thead>\n",
       "    <tr style=\"text-align: right;\">\n",
       "      <th></th>\n",
       "      <th>age</th>\n",
       "      <th>sex</th>\n",
       "      <th>cp</th>\n",
       "      <th>trestbps</th>\n",
       "      <th>chol</th>\n",
       "      <th>fbs</th>\n",
       "      <th>restecg</th>\n",
       "      <th>thalach</th>\n",
       "      <th>exang</th>\n",
       "      <th>oldpeak</th>\n",
       "      <th>slope</th>\n",
       "      <th>ca</th>\n",
       "      <th>thal</th>\n",
       "      <th>condition</th>\n",
       "    </tr>\n",
       "  </thead>\n",
       "  <tbody>\n",
       "    <tr>\n",
       "      <th>count</th>\n",
       "      <td>297.000000</td>\n",
       "      <td>297.000000</td>\n",
       "      <td>297.000000</td>\n",
       "      <td>297.000000</td>\n",
       "      <td>297.000000</td>\n",
       "      <td>297.000000</td>\n",
       "      <td>297.000000</td>\n",
       "      <td>297.000000</td>\n",
       "      <td>297.000000</td>\n",
       "      <td>297.000000</td>\n",
       "      <td>297.000000</td>\n",
       "      <td>297.000000</td>\n",
       "      <td>297.000000</td>\n",
       "      <td>297.000000</td>\n",
       "    </tr>\n",
       "    <tr>\n",
       "      <th>mean</th>\n",
       "      <td>54.542088</td>\n",
       "      <td>0.676768</td>\n",
       "      <td>2.158249</td>\n",
       "      <td>131.693603</td>\n",
       "      <td>247.350168</td>\n",
       "      <td>0.144781</td>\n",
       "      <td>0.996633</td>\n",
       "      <td>149.599327</td>\n",
       "      <td>0.326599</td>\n",
       "      <td>1.055556</td>\n",
       "      <td>0.602694</td>\n",
       "      <td>0.676768</td>\n",
       "      <td>0.835017</td>\n",
       "      <td>0.461279</td>\n",
       "    </tr>\n",
       "    <tr>\n",
       "      <th>std</th>\n",
       "      <td>9.049736</td>\n",
       "      <td>0.468500</td>\n",
       "      <td>0.964859</td>\n",
       "      <td>17.762806</td>\n",
       "      <td>51.997583</td>\n",
       "      <td>0.352474</td>\n",
       "      <td>0.994914</td>\n",
       "      <td>22.941562</td>\n",
       "      <td>0.469761</td>\n",
       "      <td>1.166123</td>\n",
       "      <td>0.618187</td>\n",
       "      <td>0.938965</td>\n",
       "      <td>0.956690</td>\n",
       "      <td>0.499340</td>\n",
       "    </tr>\n",
       "    <tr>\n",
       "      <th>min</th>\n",
       "      <td>29.000000</td>\n",
       "      <td>0.000000</td>\n",
       "      <td>0.000000</td>\n",
       "      <td>94.000000</td>\n",
       "      <td>126.000000</td>\n",
       "      <td>0.000000</td>\n",
       "      <td>0.000000</td>\n",
       "      <td>71.000000</td>\n",
       "      <td>0.000000</td>\n",
       "      <td>0.000000</td>\n",
       "      <td>0.000000</td>\n",
       "      <td>0.000000</td>\n",
       "      <td>0.000000</td>\n",
       "      <td>0.000000</td>\n",
       "    </tr>\n",
       "    <tr>\n",
       "      <th>25%</th>\n",
       "      <td>48.000000</td>\n",
       "      <td>0.000000</td>\n",
       "      <td>2.000000</td>\n",
       "      <td>120.000000</td>\n",
       "      <td>211.000000</td>\n",
       "      <td>0.000000</td>\n",
       "      <td>0.000000</td>\n",
       "      <td>133.000000</td>\n",
       "      <td>0.000000</td>\n",
       "      <td>0.000000</td>\n",
       "      <td>0.000000</td>\n",
       "      <td>0.000000</td>\n",
       "      <td>0.000000</td>\n",
       "      <td>0.000000</td>\n",
       "    </tr>\n",
       "    <tr>\n",
       "      <th>50%</th>\n",
       "      <td>56.000000</td>\n",
       "      <td>1.000000</td>\n",
       "      <td>2.000000</td>\n",
       "      <td>130.000000</td>\n",
       "      <td>243.000000</td>\n",
       "      <td>0.000000</td>\n",
       "      <td>1.000000</td>\n",
       "      <td>153.000000</td>\n",
       "      <td>0.000000</td>\n",
       "      <td>0.800000</td>\n",
       "      <td>1.000000</td>\n",
       "      <td>0.000000</td>\n",
       "      <td>0.000000</td>\n",
       "      <td>0.000000</td>\n",
       "    </tr>\n",
       "    <tr>\n",
       "      <th>75%</th>\n",
       "      <td>61.000000</td>\n",
       "      <td>1.000000</td>\n",
       "      <td>3.000000</td>\n",
       "      <td>140.000000</td>\n",
       "      <td>276.000000</td>\n",
       "      <td>0.000000</td>\n",
       "      <td>2.000000</td>\n",
       "      <td>166.000000</td>\n",
       "      <td>1.000000</td>\n",
       "      <td>1.600000</td>\n",
       "      <td>1.000000</td>\n",
       "      <td>1.000000</td>\n",
       "      <td>2.000000</td>\n",
       "      <td>1.000000</td>\n",
       "    </tr>\n",
       "    <tr>\n",
       "      <th>max</th>\n",
       "      <td>77.000000</td>\n",
       "      <td>1.000000</td>\n",
       "      <td>3.000000</td>\n",
       "      <td>200.000000</td>\n",
       "      <td>564.000000</td>\n",
       "      <td>1.000000</td>\n",
       "      <td>2.000000</td>\n",
       "      <td>202.000000</td>\n",
       "      <td>1.000000</td>\n",
       "      <td>6.200000</td>\n",
       "      <td>2.000000</td>\n",
       "      <td>3.000000</td>\n",
       "      <td>2.000000</td>\n",
       "      <td>1.000000</td>\n",
       "    </tr>\n",
       "  </tbody>\n",
       "</table>\n",
       "</div>"
      ],
      "text/plain": [
       "              age         sex          cp    trestbps        chol         fbs  \\\n",
       "count  297.000000  297.000000  297.000000  297.000000  297.000000  297.000000   \n",
       "mean    54.542088    0.676768    2.158249  131.693603  247.350168    0.144781   \n",
       "std      9.049736    0.468500    0.964859   17.762806   51.997583    0.352474   \n",
       "min     29.000000    0.000000    0.000000   94.000000  126.000000    0.000000   \n",
       "25%     48.000000    0.000000    2.000000  120.000000  211.000000    0.000000   \n",
       "50%     56.000000    1.000000    2.000000  130.000000  243.000000    0.000000   \n",
       "75%     61.000000    1.000000    3.000000  140.000000  276.000000    0.000000   \n",
       "max     77.000000    1.000000    3.000000  200.000000  564.000000    1.000000   \n",
       "\n",
       "          restecg     thalach       exang     oldpeak       slope          ca  \\\n",
       "count  297.000000  297.000000  297.000000  297.000000  297.000000  297.000000   \n",
       "mean     0.996633  149.599327    0.326599    1.055556    0.602694    0.676768   \n",
       "std      0.994914   22.941562    0.469761    1.166123    0.618187    0.938965   \n",
       "min      0.000000   71.000000    0.000000    0.000000    0.000000    0.000000   \n",
       "25%      0.000000  133.000000    0.000000    0.000000    0.000000    0.000000   \n",
       "50%      1.000000  153.000000    0.000000    0.800000    1.000000    0.000000   \n",
       "75%      2.000000  166.000000    1.000000    1.600000    1.000000    1.000000   \n",
       "max      2.000000  202.000000    1.000000    6.200000    2.000000    3.000000   \n",
       "\n",
       "             thal   condition  \n",
       "count  297.000000  297.000000  \n",
       "mean     0.835017    0.461279  \n",
       "std      0.956690    0.499340  \n",
       "min      0.000000    0.000000  \n",
       "25%      0.000000    0.000000  \n",
       "50%      0.000000    0.000000  \n",
       "75%      2.000000    1.000000  \n",
       "max      2.000000    1.000000  "
      ]
     },
     "execution_count": 107,
     "metadata": {},
     "output_type": "execute_result"
    }
   ],
   "source": [
    "# Descripción de los datos\n",
    "dfCorazon.describe()"
   ]
  },
  {
   "cell_type": "markdown",
   "id": "e39e243a-89dd-4bdc-83fc-fa93b1156b98",
   "metadata": {},
   "source": [
    "# 2. Preprocesar los datos limpiándolos, tratando valores faltantes y transformándolos según sea necesario"
   ]
  },
  {
   "cell_type": "markdown",
   "id": "4f283cbd-750a-416c-8ad6-00249b472361",
   "metadata": {},
   "source": [
    "### Identificación de datos faltantes"
   ]
  },
  {
   "cell_type": "code",
   "execution_count": 108,
   "id": "ef6c82de-1b0c-4c11-822d-8ecaf1f818b4",
   "metadata": {
    "scrolled": true
   },
   "outputs": [
    {
     "name": "stdout",
     "output_type": "stream",
     "text": [
      "<class 'pandas.core.frame.DataFrame'>\n",
      "RangeIndex: 297 entries, 0 to 296\n",
      "Data columns (total 14 columns):\n",
      " #   Column     Non-Null Count  Dtype  \n",
      "---  ------     --------------  -----  \n",
      " 0   age        297 non-null    int64  \n",
      " 1   sex        297 non-null    int64  \n",
      " 2   cp         297 non-null    int64  \n",
      " 3   trestbps   297 non-null    int64  \n",
      " 4   chol       297 non-null    int64  \n",
      " 5   fbs        297 non-null    int64  \n",
      " 6   restecg    297 non-null    int64  \n",
      " 7   thalach    297 non-null    int64  \n",
      " 8   exang      297 non-null    int64  \n",
      " 9   oldpeak    297 non-null    float64\n",
      " 10  slope      297 non-null    int64  \n",
      " 11  ca         297 non-null    int64  \n",
      " 12  thal       297 non-null    int64  \n",
      " 13  condition  297 non-null    int64  \n",
      "dtypes: float64(1), int64(13)\n",
      "memory usage: 32.6 KB\n"
     ]
    }
   ],
   "source": [
    "dfCorazon.info()"
   ]
  },
  {
   "cell_type": "markdown",
   "id": "b659bd02-2dd0-4aeb-aafb-15d3d51265cc",
   "metadata": {},
   "source": [
    "### Identificación de datos atipicos"
   ]
  },
  {
   "cell_type": "code",
   "execution_count": 109,
   "id": "255244e5-f5e3-4864-b224-d5c49711f15c",
   "metadata": {},
   "outputs": [
    {
     "data": {
      "image/png": "[encoded data removed]",
      "text/plain": [
       "<Figure size 1000x1500 with 13 Axes>"
      ]
     },
     "metadata": {},
     "output_type": "display_data"
    }
   ],
   "source": [
    "import seaborn as sns\n",
    "import matplotlib.pyplot as plt\n",
    "\n",
    "fig, axs = plt.subplots(7, 2, figsize=(10, 15))\n",
    "\n",
    "# Crear boxplot para 'age'\n",
    "sns.boxplot(dfCorazon['age'], ax=axs[0, 0])\n",
    "axs[0, 0].set_xlabel('age', fontsize=12)\n",
    "\n",
    "# Crear gráfico de barras para 'sex'\n",
    "sns.histplot(dfCorazon['sex'], ax=axs[0, 1])\n",
    "axs[0, 1].set_xlabel('sex', fontsize=12)\n",
    "\n",
    "# Crear gráfico de barras para 'cp'\n",
    "sns.countplot(dfCorazon['cp'], ax=axs[1, 0])\n",
    "axs[1, 0].set_xlabel('cp', fontsize=12)\n",
    "\n",
    "# Crear boxplot para 'trestbps'\n",
    "sns.boxplot(dfCorazon['trestbps'], ax=axs[1, 1])\n",
    "axs[1, 1].set_xlabel('trestbps', fontsize=12)\n",
    "\n",
    "# Crear boxplot para 'chol'\n",
    "sns.boxplot(dfCorazon['chol'], ax=axs[2, 0])\n",
    "axs[2, 0].set_xlabel('chol', fontsize=12)\n",
    "\n",
    "# Crear gráfico de barras para 'fbs'\n",
    "sns.histplot(dfCorazon['fbs'], ax=axs[2, 1])\n",
    "axs[2, 1].set_xlabel('fbs', fontsize=12)\n",
    "\n",
    "# Crear histograma para 'restecg'\n",
    "sns.histplot(dfCorazon['restecg'], ax=axs[3, 0])\n",
    "axs[3, 0].set_xlabel('restecg', fontsize=12)\n",
    "\n",
    "# Crear boxplot para 'thalach'\n",
    "sns.boxplot(dfCorazon['thalach'], ax=axs[3, 1])\n",
    "axs[3, 1].set_xlabel('thalach', fontsize=12)\n",
    "\n",
    "# Crear gráfico de barras para 'exang'\n",
    "sns.histplot(dfCorazon['exang'], ax=axs[4, 0])\n",
    "axs[4, 0].set_xlabel('exang', fontsize=12)\n",
    "\n",
    "# Crear boxplot para 'oldpeak'\n",
    "sns.boxplot(dfCorazon['oldpeak'], ax=axs[4, 1])\n",
    "axs[4, 1].set_xlabel('oldpeak', fontsize=12)\n",
    "\n",
    "# Crear histograma para 'slope'\n",
    "sns.histplot(dfCorazon['slope'], ax=axs[5, 0])\n",
    "axs[5, 0].set_xlabel('slope', fontsize=12)\n",
    "\n",
    "# Crear histograma para 'ca'\n",
    "sns.histplot(dfCorazon['ca'], ax=axs[5, 1])\n",
    "axs[5, 1].set_xlabel('ca', fontsize=12)\n",
    "\n",
    "# Crear histograma para 'thal'\n",
    "sns.histplot(dfCorazon['thal'], ax=axs[6, 0])\n",
    "axs[6, 0].set_xlabel('thal', fontsize=12)\n",
    "\n",
    "# Eliminar el último eje, ya que no se utiliza\n",
    "fig.delaxes(axs[6, 1])\n",
    "\n",
    "plt.tight_layout()\n",
    "plt.show()\n"
   ]
  },
  {
   "cell_type": "markdown",
   "id": "a2748b90-6a9a-42f8-8361-d835ef797da6",
   "metadata": {},
   "source": [
    "#### Varoles atipicos variable chol"
   ]
  },
  {
   "cell_type": "code",
   "execution_count": 110,
   "id": "53c81127-8e45-4b5e-84f9-6a622db12191",
   "metadata": {},
   "outputs": [
    {
     "data": {
      "text/plain": [
       "Text(0.5, 1.0, 'Identificación de Datos Faltantes y Atípicos variable dfCorazon')"
      ]
     },
     "execution_count": 110,
     "metadata": {},
     "output_type": "execute_result"
    },
    {
     "data": {
      "image/png": "[encoded data removed]",
      "text/plain": [
       "<Figure size 600x300 with 1 Axes>"
      ]
     },
     "metadata": {},
     "output_type": "display_data"
    }
   ],
   "source": [
    "#Identificación de Datos Faltantes y Atípicos dfCorazon - chol\n",
    "\n",
    "plt.figure(figsize=(6, 3))\n",
    "sns.boxplot(x=dfCorazon['chol'])\n",
    "plt.title('Identificación de Datos Faltantes y Atípicos variable dfCorazon', fontsize=10 )"
   ]
  },
  {
   "cell_type": "code",
   "execution_count": 111,
   "id": "4230c1e6-cb7c-4163-82c9-30d891f2d833",
   "metadata": {},
   "outputs": [
    {
     "name": "stdout",
     "output_type": "stream",
     "text": [
      "El total de datos atípicos es 1\n"
     ]
    }
   ],
   "source": [
    "#Conteo de Datos Atípicos - dfCorazon - chol\n",
    "\n",
    "# nivel_minimo=20\n",
    "nivel_maximo=450\n",
    "Total_Atipicos=((dfCorazon['chol']>nivel_maximo)).sum()\n",
    "print(\"El total de datos atípicos es {}\".format(Total_Atipicos))"
   ]
  },
  {
   "cell_type": "code",
   "execution_count": 112,
   "id": "d6118575-e006-471d-ab0a-62854b196842",
   "metadata": {},
   "outputs": [],
   "source": [
    "# Filtra Datos Atípicos\n",
    "\n",
    "dfCorazon=dfCorazon[(dfCorazon['chol']<nivel_maximo)]"
   ]
  },
  {
   "cell_type": "code",
   "execution_count": 113,
   "id": "f0161444-7f87-44c3-ae04-9652803618fb",
   "metadata": {},
   "outputs": [
    {
     "name": "stdout",
     "output_type": "stream",
     "text": [
      "El total de datos atípicos es 0\n"
     ]
    }
   ],
   "source": [
    "#Conteo de Datos Atípicos - dfCorazon - chol\n",
    "\n",
    "# nivel_minimo=20\n",
    "nivel_maximo=450\n",
    "Total_Atipicos=((dfCorazon['chol']>nivel_maximo)).sum()\n",
    "print(\"El total de datos atípicos es {}\".format(Total_Atipicos))"
   ]
  },
  {
   "cell_type": "code",
   "execution_count": 114,
   "id": "f81b02e2-f731-4ad8-86ef-11f336cf9df7",
   "metadata": {},
   "outputs": [
    {
     "name": "stdout",
     "output_type": "stream",
     "text": [
      "<class 'pandas.core.frame.DataFrame'>\n",
      "Index: 296 entries, 0 to 296\n",
      "Data columns (total 14 columns):\n",
      " #   Column     Non-Null Count  Dtype  \n",
      "---  ------     --------------  -----  \n",
      " 0   age        296 non-null    int64  \n",
      " 1   sex        296 non-null    int64  \n",
      " 2   cp         296 non-null    int64  \n",
      " 3   trestbps   296 non-null    int64  \n",
      " 4   chol       296 non-null    int64  \n",
      " 5   fbs        296 non-null    int64  \n",
      " 6   restecg    296 non-null    int64  \n",
      " 7   thalach    296 non-null    int64  \n",
      " 8   exang      296 non-null    int64  \n",
      " 9   oldpeak    296 non-null    float64\n",
      " 10  slope      296 non-null    int64  \n",
      " 11  ca         296 non-null    int64  \n",
      " 12  thal       296 non-null    int64  \n",
      " 13  condition  296 non-null    int64  \n",
      "dtypes: float64(1), int64(13)\n",
      "memory usage: 34.7 KB\n"
     ]
    }
   ],
   "source": [
    "#Revisión del tipo de datos y datos faltantes\n",
    "\n",
    "dfCorazon.info()"
   ]
  },
  {
   "cell_type": "markdown",
   "id": "d84ac51c-5917-4194-b835-c669b2f6ff88",
   "metadata": {},
   "source": [
    "# 3.Seleccionar las características más relevantes para entrenar el modelo utilizando selección de características"
   ]
  },
  {
   "cell_type": "markdown",
   "id": "a234b08f-15b3-4e2f-ba35-38e5664ab344",
   "metadata": {},
   "source": [
    "### Caracteristica de interes:\n",
    "\n",
    "- condition: condición (presencia o ausencia de enfermedad cardíaca)\n",
    "- predecir si una persona puede tener una enfermedad cardíacates"
   ]
  },
  {
   "cell_type": "code",
   "execution_count": 115,
   "id": "19e287ec-bec9-4e0d-93af-24c7534647fe",
   "metadata": {},
   "outputs": [
    {
     "data": {
      "text/plain": [
       "condition\n",
       "0    159\n",
       "1    137\n",
       "Name: count, dtype: int64"
      ]
     },
     "execution_count": 115,
     "metadata": {},
     "output_type": "execute_result"
    }
   ],
   "source": [
    "# Total de personas con una efermedad cardiaca\n",
    "\n",
    "dfCorazon['condition'].value_counts()"
   ]
  },
  {
   "cell_type": "code",
   "execution_count": 116,
   "id": "1f819324-47a1-4068-ad8c-92e9a71e4082",
   "metadata": {},
   "outputs": [
    {
     "data": {
      "text/html": [
       "<div>\n",
       "<style scoped>\n",
       "    .dataframe tbody tr th:only-of-type {\n",
       "        vertical-align: middle;\n",
       "    }\n",
       "\n",
       "    .dataframe tbody tr th {\n",
       "        vertical-align: top;\n",
       "    }\n",
       "\n",
       "    .dataframe thead th {\n",
       "        text-align: right;\n",
       "    }\n",
       "</style>\n",
       "<table border=\"1\" class=\"dataframe\">\n",
       "  <thead>\n",
       "    <tr style=\"text-align: right;\">\n",
       "      <th></th>\n",
       "      <th>condition</th>\n",
       "    </tr>\n",
       "  </thead>\n",
       "  <tbody>\n",
       "    <tr>\n",
       "      <th>0</th>\n",
       "      <td>0</td>\n",
       "    </tr>\n",
       "    <tr>\n",
       "      <th>1</th>\n",
       "      <td>0</td>\n",
       "    </tr>\n",
       "    <tr>\n",
       "      <th>2</th>\n",
       "      <td>0</td>\n",
       "    </tr>\n",
       "    <tr>\n",
       "      <th>3</th>\n",
       "      <td>1</td>\n",
       "    </tr>\n",
       "    <tr>\n",
       "      <th>4</th>\n",
       "      <td>0</td>\n",
       "    </tr>\n",
       "    <tr>\n",
       "      <th>5</th>\n",
       "      <td>0</td>\n",
       "    </tr>\n",
       "    <tr>\n",
       "      <th>6</th>\n",
       "      <td>0</td>\n",
       "    </tr>\n",
       "    <tr>\n",
       "      <th>7</th>\n",
       "      <td>1</td>\n",
       "    </tr>\n",
       "    <tr>\n",
       "      <th>8</th>\n",
       "      <td>0</td>\n",
       "    </tr>\n",
       "    <tr>\n",
       "      <th>9</th>\n",
       "      <td>0</td>\n",
       "    </tr>\n",
       "    <tr>\n",
       "      <th>10</th>\n",
       "      <td>1</td>\n",
       "    </tr>\n",
       "    <tr>\n",
       "      <th>11</th>\n",
       "      <td>1</td>\n",
       "    </tr>\n",
       "    <tr>\n",
       "      <th>12</th>\n",
       "      <td>1</td>\n",
       "    </tr>\n",
       "    <tr>\n",
       "      <th>13</th>\n",
       "      <td>0</td>\n",
       "    </tr>\n",
       "    <tr>\n",
       "      <th>14</th>\n",
       "      <td>0</td>\n",
       "    </tr>\n",
       "  </tbody>\n",
       "</table>\n",
       "</div>"
      ],
      "text/plain": [
       "    condition\n",
       "0           0\n",
       "1           0\n",
       "2           0\n",
       "3           1\n",
       "4           0\n",
       "5           0\n",
       "6           0\n",
       "7           1\n",
       "8           0\n",
       "9           0\n",
       "10          1\n",
       "11          1\n",
       "12          1\n",
       "13          0\n",
       "14          0"
      ]
     },
     "execution_count": 116,
     "metadata": {},
     "output_type": "execute_result"
    }
   ],
   "source": [
    "dfCorazon[['condition']].head(15)"
   ]
  },
  {
   "cell_type": "markdown",
   "id": "5ef81792-e5a3-4b69-8f5b-727d5fe7cadb",
   "metadata": {},
   "source": [
    "# 4. Dividir el dataset en Train y Test para evaluar correctamente el modelo"
   ]
  },
  {
   "cell_type": "code",
   "execution_count": 117,
   "id": "cea55726-f4de-4680-aae5-c83cab33e74d",
   "metadata": {},
   "outputs": [],
   "source": [
    "# Porcentaje de datos para entrenamiento (train) = 75% , y para prueba (test) = 25%\n",
    "# Se crean variables X y Y para almacenar la información del entrenamiento\n",
    "\n",
    "X = dfCorazon.drop('condition',axis=1) # Se cargan los datos de train sin los datos de la columna condition\n",
    "Y = dfCorazon['condition'] # Se cargan los datos de train con los datos de la la columna condition\n",
    "\n",
    "#La función train_test_split crea una división de un conjunto de datos en dos bloques uno de entrenamiento y otro de prueba (train and test)\n",
    "X_train, X_test, Y_train, Y_test = train_test_split(X, Y, test_size=0.25, stratify=Y, random_state= 0)"
   ]
  },
  {
   "cell_type": "code",
   "execution_count": 118,
   "id": "03df363a-c916-450d-9a15-5fa6dda94a5a",
   "metadata": {},
   "outputs": [
    {
     "name": "stdout",
     "output_type": "stream",
     "text": [
      "     age  sex  cp  trestbps  chol  fbs  restecg  thalach  exang  oldpeak  \\\n",
      "232   57    0   3       128   303    0        2      159      0      0.0   \n",
      "53    48    1   1       130   245    0        2      180      0      0.2   \n",
      "102   58    1   2       140   211    1        2      165      0      0.0   \n",
      "187   62    1   3       120   267    0        0       99      1      1.8   \n",
      "169   66    1   3       160   228    0        2      138      0      2.3   \n",
      "..   ...  ...  ..       ...   ...  ...      ...      ...    ...      ...   \n",
      "73    71    0   2       110   265    1        2      130      0      0.0   \n",
      "167   66    0   3       178   228    1        0      165      1      1.0   \n",
      "154   37    0   2       120   215    0        0      170      0      0.0   \n",
      "153   37    1   2       130   250    0        0      187      0      3.5   \n",
      "259   51    0   3       130   305    0        0      142      1      1.2   \n",
      "\n",
      "     slope  ca  thal  \n",
      "232      0   1     0  \n",
      "53       1   0     0  \n",
      "102      0   0     0  \n",
      "187      1   2     2  \n",
      "169      0   0     1  \n",
      "..     ...  ..   ...  \n",
      "73       0   1     0  \n",
      "167      1   2     2  \n",
      "154      0   0     0  \n",
      "153      2   0     0  \n",
      "259      1   0     2  \n",
      "\n",
      "[222 rows x 13 columns]\n"
     ]
    }
   ],
   "source": [
    "print (X_train)"
   ]
  },
  {
   "cell_type": "code",
   "execution_count": 119,
   "id": "0a7f78b5-0850-4b1e-a80d-6d833f1e44d2",
   "metadata": {},
   "outputs": [
    {
     "name": "stdout",
     "output_type": "stream",
     "text": [
      "232    0\n",
      "53     0\n",
      "102    0\n",
      "187    1\n",
      "169    0\n",
      "      ..\n",
      "73     0\n",
      "167    1\n",
      "154    0\n",
      "153    0\n",
      "259    1\n",
      "Name: condition, Length: 222, dtype: int64\n"
     ]
    }
   ],
   "source": [
    "print (Y_train)"
   ]
  },
  {
   "cell_type": "markdown",
   "id": "a3feaa4d-9915-41fd-a2f7-ccaa036f7e9d",
   "metadata": {},
   "source": [
    "# 5. Entrenar el modelo configurando los diferentes hiperparámetros"
   ]
  },
  {
   "cell_type": "code",
   "execution_count": 120,
   "id": "e40054bf-909d-4778-9993-aecb7a1df41f",
   "metadata": {},
   "outputs": [],
   "source": [
    "# Construir el modelo de regresión logística \n",
    "\n",
    "modelo_regresion = LogisticRegression(solver = \"liblinear\") # liblinear es una libreria para resolver problemas lineales de clasificación y regresión\n",
    "modelo_regresion.fit (X_train , Y_train)   \n",
    "\n",
    "# Crea el modelo de prediccion\n",
    "Prediccion = modelo_regresion.predict(X_test) # la función predict predice los valores a partir del conjunto de datos de validación"
   ]
  },
  {
   "cell_type": "code",
   "execution_count": 121,
   "id": "b6dfc854-db17-4196-85b1-3d9647125b60",
   "metadata": {},
   "outputs": [
    {
     "name": "stdout",
     "output_type": "stream",
     "text": [
      "112    0\n",
      "250    1\n",
      "240    1\n",
      "211    1\n",
      "285    0\n",
      "      ..\n",
      "172    0\n",
      "136    1\n",
      "138    0\n",
      "201    1\n",
      "258    1\n",
      "Name: condition, Length: 74, dtype: int64\n"
     ]
    }
   ],
   "source": [
    "print (Y_test)"
   ]
  },
  {
   "cell_type": "code",
   "execution_count": 122,
   "id": "69ca06c6-f601-4831-a728-aba0eb397c95",
   "metadata": {},
   "outputs": [
    {
     "name": "stdout",
     "output_type": "stream",
     "text": [
      "[0 1 1 1 0 0 1 1 1 0 0 0 0 1 1 0 0 1 0 1 0 0 1 1 0 1 1 1 0 1 1 1 0 0 0 0 0\n",
      " 0 0 0 1 0 1 0 1 1 1 0 1 0 0 0 0 0 1 1 0 1 0 1 1 0 0 0 1 0 1 0 0 0 0 0 1 1]\n"
     ]
    }
   ],
   "source": [
    "print (Prediccion)"
   ]
  },
  {
   "cell_type": "markdown",
   "id": "a4db9715-266e-45c9-bc15-91d83e868254",
   "metadata": {},
   "source": [
    "# 6. Evaluar el desempeño del modelo en el conjunto de Test con métricas como precisión, recall, F1-score, etc"
   ]
  },
  {
   "cell_type": "code",
   "execution_count": 123,
   "id": "09a6e525-41b2-4db9-9391-266ee3bc8d8b",
   "metadata": {},
   "outputs": [
    {
     "name": "stdout",
     "output_type": "stream",
     "text": [
      "              precision    recall  f1-score   support\n",
      "\n",
      "           0       0.88      0.90      0.89        40\n",
      "           1       0.88      0.85      0.87        34\n",
      "\n",
      "    accuracy                           0.88        74\n",
      "   macro avg       0.88      0.88      0.88        74\n",
      "weighted avg       0.88      0.88      0.88        74\n",
      "\n"
     ]
    }
   ],
   "source": [
    "# Desempeño del modelo de regresión\n",
    "\n",
    "print(classification_report(Y_test,Prediccion))"
   ]
  },
  {
   "cell_type": "markdown",
   "id": "2883b355-bd9e-4ca1-aa4d-331c4fc91f55",
   "metadata": {},
   "source": [
    "# 7. Realizar las diferentes gráficas que permitan visualizar los resultados del modelo"
   ]
  },
  {
   "cell_type": "code",
   "execution_count": 124,
   "id": "bae81606-35c3-4899-a13a-ef6572252860",
   "metadata": {},
   "outputs": [
    {
     "data": {
      "text/plain": [
       "<sklearn.metrics._plot.confusion_matrix.ConfusionMatrixDisplay at 0x2431ee05890>"
      ]
     },
     "execution_count": 124,
     "metadata": {},
     "output_type": "execute_result"
    },
    {
     "data": {
      "image/png": "[encoded data removed]",
      "text/plain": [
       "<Figure size 640x480 with 2 Axes>"
      ]
     },
     "metadata": {},
     "output_type": "display_data"
    }
   ],
   "source": [
    "#Matrix de Confusión del modelo\n",
    "\n",
    "cm=confusion_matrix(Y_test,Prediccion)\n",
    "disp=metrics.ConfusionMatrixDisplay(confusion_matrix=cm)\n",
    "disp.plot()"
   ]
  },
  {
   "cell_type": "code",
   "execution_count": 125,
   "id": "bf907c1a-6ca4-4230-86c5-ff7da234126e",
   "metadata": {},
   "outputs": [
    {
     "data": {
      "image/png": "[encoded data removed]",
      "text/plain": [
       "<Figure size 640x480 with 1 Axes>"
      ]
     },
     "metadata": {},
     "output_type": "display_data"
    }
   ],
   "source": [
    "# Curva de precisón del modelo\n",
    "\n",
    "from sklearn.metrics import RocCurveDisplay\n",
    "RocCurveDisplay.from_predictions(Y_test, Prediccion)\n",
    "plt.show()"
   ]
  },
  {
   "cell_type": "code",
   "execution_count": 126,
   "id": "99eafcb6-a318-42b0-b97a-121eae6b6e57",
   "metadata": {},
   "outputs": [
    {
     "data": {
      "image/png": "[encoded data removed]",
      "text/plain": [
       "<Figure size 640x480 with 1 Axes>"
      ]
     },
     "metadata": {},
     "output_type": "display_data"
    }
   ],
   "source": [
    "from sklearn.metrics import precision_recall_curve, PrecisionRecallDisplay\n",
    "\n",
    "precision, recall, _ = precision_recall_curve(Y_test, Prediccion)\n",
    "pr_display = PrecisionRecallDisplay(precision=precision, recall=recall)\n",
    "pr_display.plot()\n",
    "plt.xlabel('Recall')\n",
    "plt.ylabel('Precision')\n",
    "plt.title('Gráfico de precisión y recuperación del modelo')\n",
    "plt.show()"
   ]
  },
  {
   "cell_type": "markdown",
   "id": "2588919b-8880-43fb-b297-a292fe5eaee0",
   "metadata": {},
   "source": [
    "# 8. Interpretar, analizar y documentar los resultados obtenidos"
   ]
  },
  {
   "cell_type": "markdown",
   "id": "9576885d-d083-4ed8-a30d-b4db27eff155",
   "metadata": {},
   "source": [
    "#\n",
    "Del desempeño del modelo se puede describir:  \n",
    "*(Para la interpretación del análisis se debe tener en cuenta que la clase 0 significa que no tiene una enfermedad cardiaca y la clase 1 significa que sí tiene una enfermedad cardiaca.)*\n",
    "\n",
    "**Precisión (Precision):** La precisión es del 88% para ambas clases, lo que indica que el modelo clasifica correctamente aproximadamente el 88% de las muestras positivas.  \n",
    "**Recall (Exhaustividad o Sensibilidad):** El valor de recall para la clase 0 es del 90%, lo que significa que el modelo identifica correctamente el 90% de las muestras que son realmente de la clase 0, mientras que el recall para la clase 1 es del 85%, lo que indica que el modelo identifica correctamente el 85% de las muestras que son realmente de la clase 1.  \n",
    "**F1-score:** En este caso, el F1-score para la clase 0 es del 89% y para la clase 1 es del 87%.  \n",
    "**Accuracy (Exactitud):** Para este modelo desarrollado, la exactitud es del 88%, lo que indica que el modelo clasifica correctamente el 88% de todas las muestras.  \n",
    "**Macro avg y Weighted avg:** Estas métricas son la media de las métricas respectivas calculadas para cada clase, con y sin considerar el desequilibrio de clase en los datos, respectivamente. Ambas tienen un valor del 88%, lo que indica un rendimiento equilibrado del modelo en ambas clases.\n",
    "\n",
    "**Matriz de Confusión:**  \n",
    "La matriz de confusión muestra la cantidad de predicciones correctas e incorrectas realizadas por el modelo de regresión logística. En este caso:  \n",
    "Verdaderos positivos (TP): 29  \n",
    "Verdaderos negativos (TN): 36  \n",
    "Falsos positivos (FP): 4  \n",
    "Falsos negativos (FN): 5  \n",
    "Esto nos permite evaluar el rendimiento del modelo en términos de precisión y exhaustividad.\n",
    "\n",
    "**Curva de Precisión del Modelo:**  \n",
    "El área bajo la curva (AUC) es 0.88, lo que indica que el modelo tiene un buen rendimiento en términos de discriminación entre las clases positiva y negativa.\n",
    "\n",
    "**Gráfico de Precisión y Recuperación del Modelo:**  \n",
    "El gráfico de precisión y recuperación muestra la relación entre la precisión y la recuperación del modelo en diferentes umbrales de clasificación.  \n",
    "La precisión es la proporción de verdaderos positivos sobre todos los casos clasificados como positivos, mientras que la recuperación (o sensibilidad) es la proporción de verdaderos positivos sobre todos los casos positivos reales.  \n",
    "En este caso, el gráfico muestra una precisión de alrededor del 90% con una recuperación de alrededor del 85%.\n",
    "\n",
    "Se puede concluir, que, el modelo de regresión logística tiene un buen rendimiento en términos de discriminar entre las clases positiva y negativa, como se indica por el alto valor del área bajo la curva ROC y la precisión y recuperación relativamente altas.\n"
   ]
  },
  {
   "cell_type": "markdown",
   "id": "256cbaeb-e101-42f2-acce-eb797df23003",
   "metadata": {},
   "source": [
    "# 9. Crear una cuenta en GitHub y cargar los códigos de los modelos diseñados https://github.com/"
   ]
  }
 ],
 "metadata": {
  "kernelspec": {
   "display_name": "Python 3 (ipykernel)",
   "language": "python",
   "name": "python3"
  },
  "language_info": {
   "codemirror_mode": {
    "name": "ipython",
    "version": 3
   },
   "file_extension": ".py",
   "mimetype": "text/x-python",
   "name": "python",
   "nbconvert_exporter": "python",
   "pygments_lexer": "ipython3",
   "version": "3.11.5"
  }
 },
 "nbformat": 4,
 "nbformat_minor": 5
}
