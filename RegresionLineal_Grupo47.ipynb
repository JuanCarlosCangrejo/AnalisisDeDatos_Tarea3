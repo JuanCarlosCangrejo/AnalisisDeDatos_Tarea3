{
 "cells": [
  {
   "cell_type": "markdown",
   "id": "6d52ea12-13d6-4bee-a981-51df951e403f",
   "metadata": {},
   "source": [
    "# Dataset Regresión Lineal\n",
    "## Vehicle"
   ]
  },
  {
   "cell_type": "markdown",
   "id": "39a16be8-505b-4f53-a4d5-a6211872ff69",
   "metadata": {},
   "source": [
    "# 1. Realizar un análisis exploratorio de los datos para identificar relaciones entre variables, valores atípicos, tendencias, etc."
   ]
  },
  {
   "cell_type": "code",
   "execution_count": 1,
   "id": "34d3aafb-8e56-406d-8d6c-0c4c09478047",
   "metadata": {},
   "outputs": [],
   "source": [
    "#Cargar las librerias necesrias\n",
    "\n",
    "import pandas as pd # Manejo y análisis de estructuras de datos\n",
    "import numpy as np # Cálculo numérico y el análisis de datos\n",
    "import seaborn as sns # Creación gráficos estadísticos\n",
    "import matplotlib.pyplot as plt # Creación de gráficos en dos dimensiones\n",
    "\n",
    "# librerías de para implementar modelos de ciencia de datos\n",
    "from sklearn import metrics\n",
    "from sklearn.model_selection import train_test_split\n",
    "from sklearn.linear_model import LinearRegression\n",
    "from sklearn.metrics import classification_report, confusion_matrix\n",
    "from sklearn.metrics import mean_squared_error\n",
    "from sklearn.metrics import r2_score"
   ]
  },
  {
   "cell_type": "code",
   "execution_count": 2,
   "id": "41525d6a-af06-4184-9e23-44f25d4b9209",
   "metadata": {},
   "outputs": [],
   "source": [
    "# lectura de datos en Python y lo cargamos en la variable Datos\n",
    "\n",
    "dfVehiculos = pd.read_csv('G:/Mi unidad/PUBLIC/UNAD/Semestres/S6/AnalisisDeDatos/T3_Trabajo_COL_17042024/RegresionLineal/Car_details_v3.csv')"
   ]
  },
  {
   "cell_type": "code",
   "execution_count": 3,
   "id": "f66fd775-6e60-4444-8f40-ae8b6c75bd51",
   "metadata": {},
   "outputs": [
    {
     "data": {
      "text/html": [
       "<div>\n",
       "<style scoped>\n",
       "    .dataframe tbody tr th:only-of-type {\n",
       "        vertical-align: middle;\n",
       "    }\n",
       "\n",
       "    .dataframe tbody tr th {\n",
       "        vertical-align: top;\n",
       "    }\n",
       "\n",
       "    .dataframe thead th {\n",
       "        text-align: right;\n",
       "    }\n",
       "</style>\n",
       "<table border=\"1\" class=\"dataframe\">\n",
       "  <thead>\n",
       "    <tr style=\"text-align: right;\">\n",
       "      <th></th>\n",
       "      <th>name</th>\n",
       "      <th>year</th>\n",
       "      <th>selling_price</th>\n",
       "      <th>km_driven</th>\n",
       "      <th>fuel</th>\n",
       "      <th>seller_type</th>\n",
       "      <th>transmission</th>\n",
       "      <th>owner</th>\n",
       "      <th>mileage</th>\n",
       "      <th>engine</th>\n",
       "      <th>max_power</th>\n",
       "      <th>torque</th>\n",
       "      <th>seats</th>\n",
       "    </tr>\n",
       "  </thead>\n",
       "  <tbody>\n",
       "    <tr>\n",
       "      <th>0</th>\n",
       "      <td>Maruti Swift Dzire VDI</td>\n",
       "      <td>2014</td>\n",
       "      <td>450000</td>\n",
       "      <td>145500</td>\n",
       "      <td>Diesel</td>\n",
       "      <td>Individual</td>\n",
       "      <td>Manual</td>\n",
       "      <td>First Owner</td>\n",
       "      <td>23.4 kmpl</td>\n",
       "      <td>1248 CC</td>\n",
       "      <td>74 bhp</td>\n",
       "      <td>190Nm@ 2000rpm</td>\n",
       "      <td>5.0</td>\n",
       "    </tr>\n",
       "    <tr>\n",
       "      <th>1</th>\n",
       "      <td>Skoda Rapid 1.5 TDI Ambition</td>\n",
       "      <td>2014</td>\n",
       "      <td>370000</td>\n",
       "      <td>120000</td>\n",
       "      <td>Diesel</td>\n",
       "      <td>Individual</td>\n",
       "      <td>Manual</td>\n",
       "      <td>Second Owner</td>\n",
       "      <td>21.14 kmpl</td>\n",
       "      <td>1498 CC</td>\n",
       "      <td>103.52 bhp</td>\n",
       "      <td>250Nm@ 1500-2500rpm</td>\n",
       "      <td>5.0</td>\n",
       "    </tr>\n",
       "    <tr>\n",
       "      <th>2</th>\n",
       "      <td>Honda City 2017-2020 EXi</td>\n",
       "      <td>2006</td>\n",
       "      <td>158000</td>\n",
       "      <td>140000</td>\n",
       "      <td>Petrol</td>\n",
       "      <td>Individual</td>\n",
       "      <td>Manual</td>\n",
       "      <td>Third Owner</td>\n",
       "      <td>17.7 kmpl</td>\n",
       "      <td>1497 CC</td>\n",
       "      <td>78 bhp</td>\n",
       "      <td>12.7@ 2,700(kgm@ rpm)</td>\n",
       "      <td>5.0</td>\n",
       "    </tr>\n",
       "    <tr>\n",
       "      <th>3</th>\n",
       "      <td>Hyundai i20 Sportz Diesel</td>\n",
       "      <td>2010</td>\n",
       "      <td>225000</td>\n",
       "      <td>127000</td>\n",
       "      <td>Diesel</td>\n",
       "      <td>Individual</td>\n",
       "      <td>Manual</td>\n",
       "      <td>First Owner</td>\n",
       "      <td>23.0 kmpl</td>\n",
       "      <td>1396 CC</td>\n",
       "      <td>90 bhp</td>\n",
       "      <td>22.4 kgm at 1750-2750rpm</td>\n",
       "      <td>5.0</td>\n",
       "    </tr>\n",
       "    <tr>\n",
       "      <th>4</th>\n",
       "      <td>Maruti Swift VXI BSIII</td>\n",
       "      <td>2007</td>\n",
       "      <td>130000</td>\n",
       "      <td>120000</td>\n",
       "      <td>Petrol</td>\n",
       "      <td>Individual</td>\n",
       "      <td>Manual</td>\n",
       "      <td>First Owner</td>\n",
       "      <td>16.1 kmpl</td>\n",
       "      <td>1298 CC</td>\n",
       "      <td>88.2 bhp</td>\n",
       "      <td>11.5@ 4,500(kgm@ rpm)</td>\n",
       "      <td>5.0</td>\n",
       "    </tr>\n",
       "  </tbody>\n",
       "</table>\n",
       "</div>"
      ],
      "text/plain": [
       "                           name  year  selling_price  km_driven    fuel  \\\n",
       "0        Maruti Swift Dzire VDI  2014         450000     145500  Diesel   \n",
       "1  Skoda Rapid 1.5 TDI Ambition  2014         370000     120000  Diesel   \n",
       "2      Honda City 2017-2020 EXi  2006         158000     140000  Petrol   \n",
       "3     Hyundai i20 Sportz Diesel  2010         225000     127000  Diesel   \n",
       "4        Maruti Swift VXI BSIII  2007         130000     120000  Petrol   \n",
       "\n",
       "  seller_type transmission         owner     mileage   engine   max_power  \\\n",
       "0  Individual       Manual   First Owner   23.4 kmpl  1248 CC      74 bhp   \n",
       "1  Individual       Manual  Second Owner  21.14 kmpl  1498 CC  103.52 bhp   \n",
       "2  Individual       Manual   Third Owner   17.7 kmpl  1497 CC      78 bhp   \n",
       "3  Individual       Manual   First Owner   23.0 kmpl  1396 CC      90 bhp   \n",
       "4  Individual       Manual   First Owner   16.1 kmpl  1298 CC    88.2 bhp   \n",
       "\n",
       "                     torque  seats  \n",
       "0            190Nm@ 2000rpm    5.0  \n",
       "1       250Nm@ 1500-2500rpm    5.0  \n",
       "2     12.7@ 2,700(kgm@ rpm)    5.0  \n",
       "3  22.4 kgm at 1750-2750rpm    5.0  \n",
       "4     11.5@ 4,500(kgm@ rpm)    5.0  "
      ]
     },
     "execution_count": 3,
     "metadata": {},
     "output_type": "execute_result"
    }
   ],
   "source": [
    "# Realizamos lectura de los Datos para el análisis exploratorio\n",
    "\n",
    "dfVehiculos.head(5)"
   ]
  },
  {
   "cell_type": "code",
   "execution_count": 4,
   "id": "90672d89-afeb-41dd-99b2-8823384955ff",
   "metadata": {},
   "outputs": [],
   "source": [
    "# Se define un nuevo conjunto de nombres para las columnas\n",
    "columnasEspanol = {'name': 'nombreAuto', 'year':'Anio', 'selling_price': 'precioVenta', 'km_driven': 'kmRecorridos','fuel':'combustible' ,'seller_type': 'tipoDeVendedor', 'transmission': 'transmision', 'owner': 'propietario', 'mileage':'kilometraje', 'engine':'motor', 'max_power':'potenciaMaxima', 'torque':'torque', 'seats':'asientos'  }"
   ]
  },
  {
   "cell_type": "code",
   "execution_count": 5,
   "id": "f34dce9c-ba11-4a9f-9a55-70afc77b190e",
   "metadata": {},
   "outputs": [],
   "source": [
    "# Se renombran las columnas\n",
    "dfVehiculos = dfVehiculos.rename(columns=columnasEspanol)"
   ]
  },
  {
   "cell_type": "code",
   "execution_count": 6,
   "id": "a812d44a-1144-4999-8495-19845566c9bd",
   "metadata": {},
   "outputs": [
    {
     "data": {
      "text/html": [
       "<div>\n",
       "<style scoped>\n",
       "    .dataframe tbody tr th:only-of-type {\n",
       "        vertical-align: middle;\n",
       "    }\n",
       "\n",
       "    .dataframe tbody tr th {\n",
       "        vertical-align: top;\n",
       "    }\n",
       "\n",
       "    .dataframe thead th {\n",
       "        text-align: right;\n",
       "    }\n",
       "</style>\n",
       "<table border=\"1\" class=\"dataframe\">\n",
       "  <thead>\n",
       "    <tr style=\"text-align: right;\">\n",
       "      <th></th>\n",
       "      <th>nombreAuto</th>\n",
       "      <th>Anio</th>\n",
       "      <th>precioVenta</th>\n",
       "      <th>kmRecorridos</th>\n",
       "      <th>combustible</th>\n",
       "      <th>tipoDeVendedor</th>\n",
       "      <th>transmision</th>\n",
       "      <th>propietario</th>\n",
       "      <th>kilometraje</th>\n",
       "      <th>motor</th>\n",
       "      <th>potenciaMaxima</th>\n",
       "      <th>torque</th>\n",
       "      <th>asientos</th>\n",
       "    </tr>\n",
       "  </thead>\n",
       "  <tbody>\n",
       "    <tr>\n",
       "      <th>0</th>\n",
       "      <td>Maruti Swift Dzire VDI</td>\n",
       "      <td>2014</td>\n",
       "      <td>450000</td>\n",
       "      <td>145500</td>\n",
       "      <td>Diesel</td>\n",
       "      <td>Individual</td>\n",
       "      <td>Manual</td>\n",
       "      <td>First Owner</td>\n",
       "      <td>23.4 kmpl</td>\n",
       "      <td>1248 CC</td>\n",
       "      <td>74 bhp</td>\n",
       "      <td>190Nm@ 2000rpm</td>\n",
       "      <td>5.0</td>\n",
       "    </tr>\n",
       "    <tr>\n",
       "      <th>1</th>\n",
       "      <td>Skoda Rapid 1.5 TDI Ambition</td>\n",
       "      <td>2014</td>\n",
       "      <td>370000</td>\n",
       "      <td>120000</td>\n",
       "      <td>Diesel</td>\n",
       "      <td>Individual</td>\n",
       "      <td>Manual</td>\n",
       "      <td>Second Owner</td>\n",
       "      <td>21.14 kmpl</td>\n",
       "      <td>1498 CC</td>\n",
       "      <td>103.52 bhp</td>\n",
       "      <td>250Nm@ 1500-2500rpm</td>\n",
       "      <td>5.0</td>\n",
       "    </tr>\n",
       "    <tr>\n",
       "      <th>2</th>\n",
       "      <td>Honda City 2017-2020 EXi</td>\n",
       "      <td>2006</td>\n",
       "      <td>158000</td>\n",
       "      <td>140000</td>\n",
       "      <td>Petrol</td>\n",
       "      <td>Individual</td>\n",
       "      <td>Manual</td>\n",
       "      <td>Third Owner</td>\n",
       "      <td>17.7 kmpl</td>\n",
       "      <td>1497 CC</td>\n",
       "      <td>78 bhp</td>\n",
       "      <td>12.7@ 2,700(kgm@ rpm)</td>\n",
       "      <td>5.0</td>\n",
       "    </tr>\n",
       "  </tbody>\n",
       "</table>\n",
       "</div>"
      ],
      "text/plain": [
       "                     nombreAuto  Anio  precioVenta  kmRecorridos combustible  \\\n",
       "0        Maruti Swift Dzire VDI  2014       450000        145500      Diesel   \n",
       "1  Skoda Rapid 1.5 TDI Ambition  2014       370000        120000      Diesel   \n",
       "2      Honda City 2017-2020 EXi  2006       158000        140000      Petrol   \n",
       "\n",
       "  tipoDeVendedor transmision   propietario kilometraje    motor  \\\n",
       "0     Individual      Manual   First Owner   23.4 kmpl  1248 CC   \n",
       "1     Individual      Manual  Second Owner  21.14 kmpl  1498 CC   \n",
       "2     Individual      Manual   Third Owner   17.7 kmpl  1497 CC   \n",
       "\n",
       "  potenciaMaxima                 torque  asientos  \n",
       "0         74 bhp         190Nm@ 2000rpm       5.0  \n",
       "1     103.52 bhp    250Nm@ 1500-2500rpm       5.0  \n",
       "2         78 bhp  12.7@ 2,700(kgm@ rpm)       5.0  "
      ]
     },
     "execution_count": 6,
     "metadata": {},
     "output_type": "execute_result"
    }
   ],
   "source": [
    "# confirmar el cambio en los encabezados de columna\n",
    "dfVehiculos.head(3)"
   ]
  },
  {
   "cell_type": "code",
   "execution_count": 7,
   "id": "7590b66a-b93e-45ac-b846-907930253fd1",
   "metadata": {},
   "outputs": [
    {
     "name": "stdout",
     "output_type": "stream",
     "text": [
      "<class 'pandas.core.frame.DataFrame'>\n",
      "RangeIndex: 8128 entries, 0 to 8127\n",
      "Data columns (total 13 columns):\n",
      " #   Column          Non-Null Count  Dtype  \n",
      "---  ------          --------------  -----  \n",
      " 0   nombreAuto      8128 non-null   object \n",
      " 1   Anio            8128 non-null   int64  \n",
      " 2   precioVenta     8128 non-null   int64  \n",
      " 3   kmRecorridos    8128 non-null   int64  \n",
      " 4   combustible     8128 non-null   object \n",
      " 5   tipoDeVendedor  8128 non-null   object \n",
      " 6   transmision     8128 non-null   object \n",
      " 7   propietario     8128 non-null   object \n",
      " 8   kilometraje     7907 non-null   object \n",
      " 9   motor           7907 non-null   object \n",
      " 10  potenciaMaxima  7913 non-null   object \n",
      " 11  torque          7906 non-null   object \n",
      " 12  asientos        7907 non-null   float64\n",
      "dtypes: float64(1), int64(3), object(9)\n",
      "memory usage: 825.6+ KB\n"
     ]
    }
   ],
   "source": [
    "dfVehiculos.info()"
   ]
  },
  {
   "cell_type": "code",
   "execution_count": 8,
   "id": "03c053e6-0822-422b-8f02-5adc347a05e4",
   "metadata": {},
   "outputs": [
    {
     "data": {
      "text/html": [
       "<div>\n",
       "<style scoped>\n",
       "    .dataframe tbody tr th:only-of-type {\n",
       "        vertical-align: middle;\n",
       "    }\n",
       "\n",
       "    .dataframe tbody tr th {\n",
       "        vertical-align: top;\n",
       "    }\n",
       "\n",
       "    .dataframe thead th {\n",
       "        text-align: right;\n",
       "    }\n",
       "</style>\n",
       "<table border=\"1\" class=\"dataframe\">\n",
       "  <thead>\n",
       "    <tr style=\"text-align: right;\">\n",
       "      <th></th>\n",
       "      <th>Anio</th>\n",
       "      <th>precioVenta</th>\n",
       "      <th>kmRecorridos</th>\n",
       "      <th>asientos</th>\n",
       "    </tr>\n",
       "  </thead>\n",
       "  <tbody>\n",
       "    <tr>\n",
       "      <th>count</th>\n",
       "      <td>8128.000000</td>\n",
       "      <td>8.128000e+03</td>\n",
       "      <td>8.128000e+03</td>\n",
       "      <td>7907.000000</td>\n",
       "    </tr>\n",
       "    <tr>\n",
       "      <th>mean</th>\n",
       "      <td>2013.804011</td>\n",
       "      <td>6.382718e+05</td>\n",
       "      <td>6.981951e+04</td>\n",
       "      <td>5.416719</td>\n",
       "    </tr>\n",
       "    <tr>\n",
       "      <th>std</th>\n",
       "      <td>4.044249</td>\n",
       "      <td>8.062534e+05</td>\n",
       "      <td>5.655055e+04</td>\n",
       "      <td>0.959588</td>\n",
       "    </tr>\n",
       "    <tr>\n",
       "      <th>min</th>\n",
       "      <td>1983.000000</td>\n",
       "      <td>2.999900e+04</td>\n",
       "      <td>1.000000e+00</td>\n",
       "      <td>2.000000</td>\n",
       "    </tr>\n",
       "    <tr>\n",
       "      <th>25%</th>\n",
       "      <td>2011.000000</td>\n",
       "      <td>2.549990e+05</td>\n",
       "      <td>3.500000e+04</td>\n",
       "      <td>5.000000</td>\n",
       "    </tr>\n",
       "    <tr>\n",
       "      <th>50%</th>\n",
       "      <td>2015.000000</td>\n",
       "      <td>4.500000e+05</td>\n",
       "      <td>6.000000e+04</td>\n",
       "      <td>5.000000</td>\n",
       "    </tr>\n",
       "    <tr>\n",
       "      <th>75%</th>\n",
       "      <td>2017.000000</td>\n",
       "      <td>6.750000e+05</td>\n",
       "      <td>9.800000e+04</td>\n",
       "      <td>5.000000</td>\n",
       "    </tr>\n",
       "    <tr>\n",
       "      <th>max</th>\n",
       "      <td>2020.000000</td>\n",
       "      <td>1.000000e+07</td>\n",
       "      <td>2.360457e+06</td>\n",
       "      <td>14.000000</td>\n",
       "    </tr>\n",
       "  </tbody>\n",
       "</table>\n",
       "</div>"
      ],
      "text/plain": [
       "              Anio   precioVenta  kmRecorridos     asientos\n",
       "count  8128.000000  8.128000e+03  8.128000e+03  7907.000000\n",
       "mean   2013.804011  6.382718e+05  6.981951e+04     5.416719\n",
       "std       4.044249  8.062534e+05  5.655055e+04     0.959588\n",
       "min    1983.000000  2.999900e+04  1.000000e+00     2.000000\n",
       "25%    2011.000000  2.549990e+05  3.500000e+04     5.000000\n",
       "50%    2015.000000  4.500000e+05  6.000000e+04     5.000000\n",
       "75%    2017.000000  6.750000e+05  9.800000e+04     5.000000\n",
       "max    2020.000000  1.000000e+07  2.360457e+06    14.000000"
      ]
     },
     "execution_count": 8,
     "metadata": {},
     "output_type": "execute_result"
    }
   ],
   "source": [
    "# Descripción de los datos\n",
    "dfVehiculos.describe()"
   ]
  },
  {
   "cell_type": "markdown",
   "id": "bc6c78fb-1e26-4b02-b98b-a5b24b6ca7b5",
   "metadata": {},
   "source": [
    "# 2. Preprocesar los datos limpiándolos, tratando valores faltantes y transformándolos según sea necesario."
   ]
  },
  {
   "cell_type": "markdown",
   "id": "9cf8015e-de8b-40cb-9de2-151dc2b291df",
   "metadata": {},
   "source": [
    "## Se completará información faltante en los registros incompletos, la información se tomará de otros registros que están completos y que coincidan con nombreAuto, Anio y transmision."
   ]
  },
  {
   "cell_type": "code",
   "execution_count": 9,
   "id": "5dfafe67-7a44-4f45-beb2-07ea8913b054",
   "metadata": {},
   "outputs": [
    {
     "name": "stdout",
     "output_type": "stream",
     "text": [
      "No hay registros completos coincidentes para el índice 13\n",
      "No hay registros completos coincidentes para el índice 31\n",
      "No hay registros completos coincidentes para el índice 78\n",
      "No hay registros completos coincidentes para el índice 87\n",
      "No hay registros completos coincidentes para el índice 119\n",
      "No hay registros completos coincidentes para el índice 138\n",
      "No hay registros completos coincidentes para el índice 200\n",
      "No hay registros completos coincidentes para el índice 206\n",
      "No hay registros completos coincidentes para el índice 228\n",
      "No hay registros completos coincidentes para el índice 252\n",
      "No hay registros completos coincidentes para el índice 306\n",
      "No hay registros completos coincidentes para el índice 316\n",
      "No hay registros completos coincidentes para el índice 336\n",
      "No hay registros completos coincidentes para el índice 390\n",
      "No hay registros completos coincidentes para el índice 516\n",
      "No hay registros completos coincidentes para el índice 535\n",
      "No hay registros completos coincidentes para el índice 539\n",
      "No hay registros completos coincidentes para el índice 688\n",
      "No hay registros completos coincidentes para el índice 725\n",
      "No hay registros completos coincidentes para el índice 743\n",
      "No hay registros completos coincidentes para el índice 744\n",
      "No hay registros completos coincidentes para el índice 747\n",
      "No hay registros completos coincidentes para el índice 756\n",
      "No hay registros completos coincidentes para el índice 774\n",
      "No hay registros completos coincidentes para el índice 776\n",
      "No hay registros completos coincidentes para el índice 862\n",
      "No hay registros completos coincidentes para el índice 992\n",
      "No hay registros completos coincidentes para el índice 1015\n",
      "No hay registros completos coincidentes para el índice 1045\n",
      "No hay registros completos coincidentes para el índice 1183\n",
      "No hay registros completos coincidentes para el índice 1184\n",
      "No hay registros completos coincidentes para el índice 1185\n",
      "No hay registros completos coincidentes para el índice 1200\n",
      "No hay registros completos coincidentes para el índice 1210\n",
      "No hay registros completos coincidentes para el índice 1213\n",
      "No hay registros completos coincidentes para el índice 1216\n",
      "No hay registros completos coincidentes para el índice 1322\n",
      "No hay registros completos coincidentes para el índice 1331\n",
      "No hay registros completos coincidentes para el índice 1340\n",
      "No hay registros completos coincidentes para el índice 1347\n",
      "No hay registros completos coincidentes para el índice 1391\n",
      "No hay registros completos coincidentes para el índice 1432\n",
      "No hay registros completos coincidentes para el índice 1499\n",
      "No hay registros completos coincidentes para el índice 1512\n",
      "No hay registros completos coincidentes para el índice 1637\n",
      "No hay registros completos coincidentes para el índice 1651\n",
      "No hay registros completos coincidentes para el índice 1747\n",
      "No hay registros completos coincidentes para el índice 1785\n",
      "No hay registros completos coincidentes para el índice 1809\n",
      "No hay registros completos coincidentes para el índice 1815\n",
      "No hay registros completos coincidentes para el índice 1921\n",
      "No hay registros completos coincidentes para el índice 1933\n",
      "No hay registros completos coincidentes para el índice 1956\n",
      "No hay registros completos coincidentes para el índice 1957\n",
      "No hay registros completos coincidentes para el índice 1972\n",
      "No hay registros completos coincidentes para el índice 2029\n",
      "No hay registros completos coincidentes para el índice 2047\n",
      "No hay registros completos coincidentes para el índice 2105\n",
      "No hay registros completos coincidentes para el índice 2113\n",
      "No hay registros completos coincidentes para el índice 2124\n",
      "No hay registros completos coincidentes para el índice 2149\n",
      "No hay registros completos coincidentes para el índice 2188\n",
      "No hay registros completos coincidentes para el índice 2253\n",
      "No hay registros completos coincidentes para el índice 2258\n",
      "No hay registros completos coincidentes para el índice 2267\n",
      "No hay registros completos coincidentes para el índice 2271\n",
      "No hay registros completos coincidentes para el índice 2273\n",
      "No hay registros completos coincidentes para el índice 2285\n",
      "No hay registros completos coincidentes para el índice 2291\n",
      "No hay registros completos coincidentes para el índice 2329\n",
      "No hay registros completos coincidentes para el índice 2386\n",
      "No hay registros completos coincidentes para el índice 2388\n",
      "No hay registros completos coincidentes para el índice 2448\n",
      "No hay registros completos coincidentes para el índice 2461\n",
      "No hay registros completos coincidentes para el índice 2464\n",
      "No hay registros completos coincidentes para el índice 2466\n",
      "No hay registros completos coincidentes para el índice 2495\n",
      "No hay registros completos coincidentes para el índice 2498\n",
      "No hay registros completos coincidentes para el índice 2682\n",
      "No hay registros completos coincidentes para el índice 2719\n",
      "No hay registros completos coincidentes para el índice 2726\n",
      "No hay registros completos coincidentes para el índice 2850\n",
      "No hay registros completos coincidentes para el índice 2867\n",
      "No hay registros completos coincidentes para el índice 2873\n",
      "No hay registros completos coincidentes para el índice 2942\n",
      "No hay registros completos coincidentes para el índice 2959\n",
      "No hay registros completos coincidentes para el índice 2995\n",
      "No hay registros completos coincidentes para el índice 3062\n",
      "No hay registros completos coincidentes para el índice 3097\n",
      "No hay registros completos coincidentes para el índice 3154\n",
      "No hay registros completos coincidentes para el índice 3194\n",
      "No hay registros completos coincidentes para el índice 3281\n",
      "No hay registros completos coincidentes para el índice 3310\n",
      "No hay registros completos coincidentes para el índice 3365\n",
      "No hay registros completos coincidentes para el índice 3397\n",
      "No hay registros completos coincidentes para el índice 3404\n",
      "No hay registros completos coincidentes para el índice 3456\n",
      "No hay registros completos coincidentes para el índice 3462\n",
      "No hay registros completos coincidentes para el índice 3467\n",
      "No hay registros completos coincidentes para el índice 3468\n",
      "No hay registros completos coincidentes para el índice 3555\n",
      "No hay registros completos coincidentes para el índice 3597\n",
      "No hay registros completos coincidentes para el índice 3626\n",
      "No hay registros completos coincidentes para el índice 3636\n",
      "No hay registros completos coincidentes para el índice 3647\n",
      "No hay registros completos coincidentes para el índice 3699\n",
      "No hay registros completos coincidentes para el índice 3856\n",
      "No hay registros completos coincidentes para el índice 3892\n",
      "No hay registros completos coincidentes para el índice 3919\n",
      "No hay registros completos coincidentes para el índice 3922\n",
      "No hay registros completos coincidentes para el índice 4042\n",
      "No hay registros completos coincidentes para el índice 4051\n",
      "No hay registros completos coincidentes para el índice 4056\n",
      "No hay registros completos coincidentes para el índice 4254\n",
      "No hay registros completos coincidentes para el índice 4305\n",
      "No hay registros completos coincidentes para el índice 4359\n",
      "No hay registros completos coincidentes para el índice 4366\n",
      "No hay registros completos coincidentes para el índice 4433\n",
      "No hay registros completos coincidentes para el índice 4434\n",
      "No hay registros completos coincidentes para el índice 4441\n",
      "No hay registros completos coincidentes para el índice 4442\n",
      "No hay registros completos coincidentes para el índice 4456\n",
      "No hay registros completos coincidentes para el índice 4542\n",
      "No hay registros completos coincidentes para el índice 4571\n",
      "No hay registros completos coincidentes para el índice 4703\n",
      "No hay registros completos coincidentes para el índice 4731\n",
      "No hay registros completos coincidentes para el índice 4872\n",
      "No hay registros completos coincidentes para el índice 4895\n",
      "No hay registros completos coincidentes para el índice 4933\n",
      "No hay registros completos coincidentes para el índice 4954\n",
      "No hay registros completos coincidentes para el índice 4978\n",
      "No hay registros completos coincidentes para el índice 5005\n",
      "No hay registros completos coincidentes para el índice 5060\n",
      "No hay registros completos coincidentes para el índice 5104\n",
      "No hay registros completos coincidentes para el índice 5271\n",
      "No hay registros completos coincidentes para el índice 5322\n",
      "No hay registros completos coincidentes para el índice 5331\n",
      "No hay registros completos coincidentes para el índice 5351\n",
      "No hay registros completos coincidentes para el índice 5385\n",
      "No hay registros completos coincidentes para el índice 5407\n",
      "No hay registros completos coincidentes para el índice 5447\n",
      "No hay registros completos coincidentes para el índice 5451\n",
      "No hay registros completos coincidentes para el índice 5456\n",
      "No hay registros completos coincidentes para el índice 5460\n",
      "No hay registros completos coincidentes para el índice 5583\n",
      "No hay registros completos coincidentes para el índice 5605\n",
      "No hay registros completos coincidentes para el índice 5659\n",
      "No hay registros completos coincidentes para el índice 5671\n",
      "No hay registros completos coincidentes para el índice 5673\n",
      "No hay registros completos coincidentes para el índice 5674\n",
      "No hay registros completos coincidentes para el índice 5680\n",
      "No hay registros completos coincidentes para el índice 5699\n",
      "No hay registros completos coincidentes para el índice 5742\n",
      "No hay registros completos coincidentes para el índice 5807\n",
      "No hay registros completos coincidentes para el índice 5817\n",
      "No hay registros completos coincidentes para el índice 5839\n",
      "No hay registros completos coincidentes para el índice 5901\n",
      "No hay registros completos coincidentes para el índice 5993\n",
      "No hay registros completos coincidentes para el índice 6099\n",
      "No hay registros completos coincidentes para el índice 6100\n",
      "No hay registros completos coincidentes para el índice 6101\n",
      "No hay registros completos coincidentes para el índice 6294\n",
      "No hay registros completos coincidentes para el índice 6315\n",
      "No hay registros completos coincidentes para el índice 6348\n",
      "No hay registros completos coincidentes para el índice 6349\n",
      "No hay registros completos coincidentes para el índice 6354\n",
      "No hay registros completos coincidentes para el índice 6391\n",
      "No hay registros completos coincidentes para el índice 6404\n",
      "No hay registros completos coincidentes para el índice 6516\n",
      "No hay registros completos coincidentes para el índice 6536\n",
      "No hay registros completos coincidentes para el índice 6598\n",
      "No hay registros completos coincidentes para el índice 6649\n",
      "No hay registros completos coincidentes para el índice 6651\n",
      "No hay registros completos coincidentes para el índice 6716\n",
      "No hay registros completos coincidentes para el índice 6730\n",
      "No hay registros completos coincidentes para el índice 6776\n",
      "No hay registros completos coincidentes para el índice 6859\n",
      "No hay registros completos coincidentes para el índice 6910\n",
      "No hay registros completos coincidentes para el índice 6912\n",
      "No hay registros completos coincidentes para el índice 6917\n",
      "No hay registros completos coincidentes para el índice 6934\n",
      "No hay registros completos coincidentes para el índice 7012\n",
      "No hay registros completos coincidentes para el índice 7086\n",
      "No hay registros completos coincidentes para el índice 7127\n",
      "No hay registros completos coincidentes para el índice 7179\n",
      "No hay registros completos coincidentes para el índice 7208\n",
      "No hay registros completos coincidentes para el índice 7272\n",
      "No hay registros completos coincidentes para el índice 7275\n",
      "No hay registros completos coincidentes para el índice 7302\n",
      "No hay registros completos coincidentes para el índice 7358\n",
      "No hay registros completos coincidentes para el índice 7361\n",
      "No hay registros completos coincidentes para el índice 7373\n",
      "No hay registros completos coincidentes para el índice 7422\n",
      "No hay registros completos coincidentes para el índice 7433\n",
      "No hay registros completos coincidentes para el índice 7437\n",
      "No hay registros completos coincidentes para el índice 7454\n",
      "No hay registros completos coincidentes para el índice 7473\n",
      "No hay registros completos coincidentes para el índice 7528\n",
      "No hay registros completos coincidentes para el índice 7538\n",
      "No hay registros completos coincidentes para el índice 7581\n",
      "No hay registros completos coincidentes para el índice 7582\n",
      "No hay registros completos coincidentes para el índice 7595\n",
      "No hay registros completos coincidentes para el índice 7730\n",
      "No hay registros completos coincidentes para el índice 7740\n",
      "No hay registros completos coincidentes para el índice 7846\n",
      "No hay registros completos coincidentes para el índice 7996\n",
      "No hay registros completos coincidentes para el índice 8009\n",
      "No hay registros completos coincidentes para el índice 8068\n",
      "No hay registros completos coincidentes para el índice 8103\n",
      "<class 'pandas.core.frame.DataFrame'>\n",
      "RangeIndex: 8128 entries, 0 to 8127\n",
      "Data columns (total 13 columns):\n",
      " #   Column          Non-Null Count  Dtype  \n",
      "---  ------          --------------  -----  \n",
      " 0   nombreAuto      8128 non-null   object \n",
      " 1   Anio            8128 non-null   int64  \n",
      " 2   precioVenta     8128 non-null   int64  \n",
      " 3   kmRecorridos    8128 non-null   int64  \n",
      " 4   combustible     8128 non-null   object \n",
      " 5   tipoDeVendedor  8128 non-null   object \n",
      " 6   transmision     8128 non-null   object \n",
      " 7   propietario     8128 non-null   object \n",
      " 8   kilometraje     7920 non-null   object \n",
      " 9   motor           7920 non-null   object \n",
      " 10  potenciaMaxima  7920 non-null   object \n",
      " 11  torque          7919 non-null   object \n",
      " 12  asientos        7920 non-null   float64\n",
      "dtypes: float64(1), int64(3), object(9)\n",
      "memory usage: 825.6+ KB\n"
     ]
    }
   ],
   "source": [
    "# Filtrar registros completos\n",
    "registros_completos = dfVehiculos.dropna()\n",
    "\n",
    "# Iterar sobre registros incompletos\n",
    "for index, row in dfVehiculos[dfVehiculos.isnull().any(axis=1)].iterrows():\n",
    "    # Encontrar registros completos que coincidan en 'nombreAuto', 'Anio' y 'transmision'\n",
    "    registros_coincidentes = registros_completos[\n",
    "        (registros_completos['nombreAuto'] == row['nombreAuto']) &\n",
    "        (registros_completos['Anio'] == row['Anio']) &\n",
    "        (registros_completos['transmision'] == row['transmision'])\n",
    "    ]\n",
    "    \n",
    "    # Verificar si hay registros completos coincidentes\n",
    "    if not registros_coincidentes.empty:\n",
    "        # Tomar el primer registro coincidente\n",
    "        registro_completo = registros_coincidentes.iloc[0]\n",
    "        \n",
    "        # Copiar valores de columnas faltantes\n",
    "        for columna in ['kilometraje', 'motor', 'potenciaMaxima', 'torque', 'asientos']:\n",
    "            dfVehiculos.at[index, columna] = registro_completo[columna]\n",
    "    else:\n",
    "        print(f\"No hay registros completos coincidentes para el índice {index}\")\n",
    "\n",
    "# Mostrar la información actualizada del dataframe\n",
    "dfVehiculos.info()\n"
   ]
  },
  {
   "cell_type": "markdown",
   "id": "41816155-1485-4358-934d-6f7254e6e337",
   "metadata": {},
   "source": [
    "## Se descartarán los registros incompletos, ya que se considera no se puede obtener ['kilometraje', 'motor', 'potenciaMaxima', 'torque', 'asientos'] por medio de la media o moda. Esas variables dependen especificamente del nombreAuto, Anio y transmision."
   ]
  },
  {
   "cell_type": "code",
   "execution_count": 10,
   "id": "9f3ef1e0-3d2d-4014-bf00-c75a0f0dd872",
   "metadata": {},
   "outputs": [
    {
     "name": "stdout",
     "output_type": "stream",
     "text": [
      "<class 'pandas.core.frame.DataFrame'>\n",
      "Index: 7919 entries, 0 to 8127\n",
      "Data columns (total 13 columns):\n",
      " #   Column          Non-Null Count  Dtype  \n",
      "---  ------          --------------  -----  \n",
      " 0   nombreAuto      7919 non-null   object \n",
      " 1   Anio            7919 non-null   int64  \n",
      " 2   precioVenta     7919 non-null   int64  \n",
      " 3   kmRecorridos    7919 non-null   int64  \n",
      " 4   combustible     7919 non-null   object \n",
      " 5   tipoDeVendedor  7919 non-null   object \n",
      " 6   transmision     7919 non-null   object \n",
      " 7   propietario     7919 non-null   object \n",
      " 8   kilometraje     7919 non-null   object \n",
      " 9   motor           7919 non-null   object \n",
      " 10  potenciaMaxima  7919 non-null   object \n",
      " 11  torque          7919 non-null   object \n",
      " 12  asientos        7919 non-null   float64\n",
      "dtypes: float64(1), int64(3), object(9)\n",
      "memory usage: 866.1+ KB\n"
     ]
    }
   ],
   "source": [
    "# Descartar registros incompletos.\n",
    "dfVehiculos = dfVehiculos.dropna()\n",
    "# Validar la data actual.\n",
    "dfVehiculos.info()"
   ]
  },
  {
   "cell_type": "markdown",
   "id": "101bb518-e15c-4bb4-b472-d2d7a1a9fdac",
   "metadata": {},
   "source": [
    "## Se modificaran columnas que contienen valores númericos junto con cadenas de texto, se eliminaran las cadenas de texto y los numeros se convertiran en tipo float."
   ]
  },
  {
   "cell_type": "code",
   "execution_count": 11,
   "id": "4077a5f2-96fa-4adc-ab9e-292760f9b651",
   "metadata": {},
   "outputs": [],
   "source": [
    "# Convertir la columna kilometraje a tipo string, eliminar las cadenas de texto ' kmpl' y ' km/kg', luego convertir a tipo float\n",
    "dfVehiculos['kilometraje'] = dfVehiculos['kilometraje'].astype(str).str.replace(' kmpl', '').str.replace(' km/kg', '').astype(float)\n",
    "\n"
   ]
  },
  {
   "cell_type": "code",
   "execution_count": 12,
   "id": "eee38f70-5c05-4979-9f91-7371f1b85fbe",
   "metadata": {},
   "outputs": [],
   "source": [
    "# Convertir la columna motor a tipo string, eliminar las cadenas de texto ' CC', luego convertir a tipo float\n",
    "dfVehiculos['motor'] = dfVehiculos['motor'].astype(str).str.replace(' CC', '').astype(float)\n"
   ]
  },
  {
   "cell_type": "code",
   "execution_count": 13,
   "id": "0396d188-4a11-49fd-9e05-8d69ac32ea9b",
   "metadata": {},
   "outputs": [],
   "source": [
    "# Convertir la columna potenciaMaxima a tipo string, eliminar las cadenas de texto ' bhp', luego convertir a tipo float\n",
    "dfVehiculos['potenciaMaxima'] = dfVehiculos['potenciaMaxima'].astype(str).str.replace(' bhp', '').astype(float)\n"
   ]
  },
  {
   "cell_type": "markdown",
   "id": "eedafdc1-4dbd-4068-b716-374ba2fc647d",
   "metadata": {},
   "source": [
    "## Se modificaran las columnas que contienen variables categoricas, se cambiaran por numeros que las representen."
   ]
  },
  {
   "cell_type": "markdown",
   "id": "1efea031-14a8-47cb-8962-58b63beae207",
   "metadata": {},
   "source": [
    "### Variable combustible"
   ]
  },
  {
   "cell_type": "code",
   "execution_count": 14,
   "id": "cfdad2ff-6278-40dc-b63a-d27c4659d419",
   "metadata": {},
   "outputs": [
    {
     "data": {
      "text/plain": [
       "combustible\n",
       "Diesel    4310\n",
       "Petrol    3522\n",
       "CNG         52\n",
       "LPG         35\n",
       "Name: count, dtype: int64"
      ]
     },
     "execution_count": 14,
     "metadata": {},
     "output_type": "execute_result"
    }
   ],
   "source": [
    "dfVehiculos['combustible'].value_counts()"
   ]
  },
  {
   "cell_type": "code",
   "execution_count": 15,
   "id": "70f4a3cc-c5ab-42aa-82fc-70e57a95d0fe",
   "metadata": {},
   "outputs": [],
   "source": [
    "# Definir el diccionario de mapeo de valores\n",
    "mapeo_combustible = {\n",
    "    'Diesel': 1,\n",
    "    'Petrol': 2,\n",
    "    'CNG': 3,\n",
    "    'LPG': 4\n",
    "}\n",
    "\n",
    "# Reemplazar los valores en la columna 'combustible' utilizando el diccionario de mapeo\n",
    "dfVehiculos['combustible'] = dfVehiculos['combustible'].replace(mapeo_combustible)\n"
   ]
  },
  {
   "cell_type": "code",
   "execution_count": 16,
   "id": "5b4be004-0c4a-43fa-9d25-758ffd431bb2",
   "metadata": {},
   "outputs": [
    {
     "data": {
      "text/plain": [
       "combustible\n",
       "1    4310\n",
       "2    3522\n",
       "3      52\n",
       "4      35\n",
       "Name: count, dtype: int64"
      ]
     },
     "execution_count": 16,
     "metadata": {},
     "output_type": "execute_result"
    }
   ],
   "source": [
    "dfVehiculos['combustible'].value_counts()"
   ]
  },
  {
   "cell_type": "markdown",
   "id": "17a1afc4-3478-4e2c-b7ba-ecde0303de93",
   "metadata": {},
   "source": [
    "### Variable tipoDeVendedor"
   ]
  },
  {
   "cell_type": "code",
   "execution_count": 17,
   "id": "1f52f2f5-0ae9-4213-9dcd-e4d3dc8a7b65",
   "metadata": {},
   "outputs": [
    {
     "data": {
      "text/plain": [
       "tipoDeVendedor\n",
       "Individual          6572\n",
       "Dealer              1111\n",
       "Trustmark Dealer     236\n",
       "Name: count, dtype: int64"
      ]
     },
     "execution_count": 17,
     "metadata": {},
     "output_type": "execute_result"
    }
   ],
   "source": [
    "dfVehiculos['tipoDeVendedor'].value_counts()"
   ]
  },
  {
   "cell_type": "code",
   "execution_count": 18,
   "id": "766fa0cf-8336-4015-a8ca-d3828d2533b6",
   "metadata": {},
   "outputs": [],
   "source": [
    "# Definir el diccionario de mapeo de valores\n",
    "mapeo_tipoDeVendedor = {\n",
    "    'Individual': 1,\n",
    "    'Dealer': 2,\n",
    "    'Trustmark Dealer': 3\n",
    "}\n",
    "\n",
    "# Reemplazar los valores en la columna 'tipoDeVendedor' utilizando el diccionario de mapeo\n",
    "dfVehiculos['tipoDeVendedor'] = dfVehiculos['tipoDeVendedor'].replace(mapeo_tipoDeVendedor)"
   ]
  },
  {
   "cell_type": "code",
   "execution_count": 19,
   "id": "68c1f041-367b-4248-b4ed-e6c4448b97ff",
   "metadata": {},
   "outputs": [
    {
     "data": {
      "text/plain": [
       "tipoDeVendedor\n",
       "1    6572\n",
       "2    1111\n",
       "3     236\n",
       "Name: count, dtype: int64"
      ]
     },
     "execution_count": 19,
     "metadata": {},
     "output_type": "execute_result"
    }
   ],
   "source": [
    "dfVehiculos['tipoDeVendedor'].value_counts()"
   ]
  },
  {
   "cell_type": "markdown",
   "id": "de5c26e3-4bc6-4289-a2e6-8aefa07bca2b",
   "metadata": {},
   "source": [
    "### Variable transmision"
   ]
  },
  {
   "cell_type": "code",
   "execution_count": 20,
   "id": "0a0f3e1b-777d-491f-8645-d26e51fa9193",
   "metadata": {},
   "outputs": [
    {
     "data": {
      "text/plain": [
       "transmision\n",
       "Manual       6878\n",
       "Automatic    1041\n",
       "Name: count, dtype: int64"
      ]
     },
     "execution_count": 20,
     "metadata": {},
     "output_type": "execute_result"
    }
   ],
   "source": [
    "dfVehiculos['transmision'].value_counts()"
   ]
  },
  {
   "cell_type": "code",
   "execution_count": 21,
   "id": "8655338e-de80-454f-a388-20078d2f2920",
   "metadata": {},
   "outputs": [],
   "source": [
    "# Definir el diccionario de mapeo de valores\n",
    "mapeo_transmision = {\n",
    "    'Manual': 1,\n",
    "    'Automatic': 2\n",
    "}\n",
    "\n",
    "# Reemplazar los valores en la columna 'transmision' utilizando el diccionario de mapeo\n",
    "dfVehiculos['transmision'] = dfVehiculos['transmision'].replace(mapeo_transmision)"
   ]
  },
  {
   "cell_type": "code",
   "execution_count": 22,
   "id": "c9be9640-277d-4c8e-a7ae-766a4816fe0a",
   "metadata": {},
   "outputs": [
    {
     "data": {
      "text/plain": [
       "transmision\n",
       "1    6878\n",
       "2    1041\n",
       "Name: count, dtype: int64"
      ]
     },
     "execution_count": 22,
     "metadata": {},
     "output_type": "execute_result"
    }
   ],
   "source": [
    "dfVehiculos['transmision'].value_counts()"
   ]
  },
  {
   "cell_type": "markdown",
   "id": "b4fa94d1-fe04-4952-815c-c666e1a65488",
   "metadata": {},
   "source": [
    "### Variable propietario"
   ]
  },
  {
   "cell_type": "code",
   "execution_count": 23,
   "id": "b8c9ddf0-dfee-4c01-b564-a9fc7b902930",
   "metadata": {},
   "outputs": [
    {
     "data": {
      "text/plain": [
       "propietario\n",
       "First Owner             5224\n",
       "Second Owner            2020\n",
       "Third Owner              510\n",
       "Fourth & Above Owner     160\n",
       "Test Drive Car             5\n",
       "Name: count, dtype: int64"
      ]
     },
     "execution_count": 23,
     "metadata": {},
     "output_type": "execute_result"
    }
   ],
   "source": [
    "dfVehiculos['propietario'].value_counts()"
   ]
  },
  {
   "cell_type": "code",
   "execution_count": 24,
   "id": "c53f2da6-9eb7-4ad1-8a0c-626850a07aa2",
   "metadata": {},
   "outputs": [],
   "source": [
    "# Definir el diccionario de mapeo de valores\n",
    "mapeo_propietario = {\n",
    "    'First Owner': 1,\n",
    "    'Second Owner': 2,\n",
    "    'Third Owner': 3,\n",
    "    'Fourth & Above Owner': 4,\n",
    "    'Test Drive Car': 5\n",
    "}\n",
    "\n",
    "# Reemplazar los valores en la columna 'propietario' utilizando el diccionario de mapeo\n",
    "dfVehiculos['propietario'] = dfVehiculos['propietario'].replace(mapeo_propietario)"
   ]
  },
  {
   "cell_type": "code",
   "execution_count": 25,
   "id": "c4a260b1-38a8-46d1-941d-afcb801bb44d",
   "metadata": {},
   "outputs": [
    {
     "data": {
      "text/plain": [
       "propietario\n",
       "1    5224\n",
       "2    2020\n",
       "3     510\n",
       "4     160\n",
       "5       5\n",
       "Name: count, dtype: int64"
      ]
     },
     "execution_count": 25,
     "metadata": {},
     "output_type": "execute_result"
    }
   ],
   "source": [
    "dfVehiculos['propietario'].value_counts()"
   ]
  },
  {
   "cell_type": "markdown",
   "id": "5d6f1695-87bf-4890-b9aa-362fbeba523a",
   "metadata": {},
   "source": [
    "### Variable nombreAuto"
   ]
  },
  {
   "cell_type": "code",
   "execution_count": 26,
   "id": "81541a76-0a2d-4011-b098-12d3b267a156",
   "metadata": {},
   "outputs": [
    {
     "data": {
      "text/plain": [
       "nombreAuto\n",
       "Maruti Swift Dzire VDI                             129\n",
       "Maruti Alto 800 LXI                                 82\n",
       "Maruti Alto LXi                                     71\n",
       "BMW X4 M Sport X xDrive20d                          62\n",
       "Maruti Swift VDI                                    61\n",
       "                                                  ... \n",
       "Skoda Fabia 1.4 TDI Ambiente                         1\n",
       "Mahindra Scorpio VLX 2WD AT BSIII                    1\n",
       "Renault KWID Climber 1.0 AMT                         1\n",
       "Mahindra XUV300 W8 Option Dual Tone Diesel BSIV      1\n",
       "Toyota Innova 2.5 GX (Diesel) 8 Seater BS IV         1\n",
       "Name: count, Length: 1982, dtype: int64"
      ]
     },
     "execution_count": 26,
     "metadata": {},
     "output_type": "execute_result"
    }
   ],
   "source": [
    "dfVehiculos['nombreAuto'].value_counts()"
   ]
  },
  {
   "cell_type": "code",
   "execution_count": 27,
   "id": "05f6c1bd-c4da-430c-9c85-a8b354dbcd0e",
   "metadata": {},
   "outputs": [],
   "source": [
    "# Obtener los códigos de factorización para los valores únicos en la columna 'nombreAuto'\n",
    "codigos_factorizacion, _ = pd.factorize(dfVehiculos['nombreAuto'])\n",
    "\n",
    "# Asignar los códigos de factorización a la columna 'nombreAuto'\n",
    "dfVehiculos['nombreAuto'] = codigos_factorizacion + 1  # Sumar 1 para que los códigos comiencen desde 1\n"
   ]
  },
  {
   "cell_type": "code",
   "execution_count": 28,
   "id": "1ae7d89b-f43b-49e5-9521-7618cb141530",
   "metadata": {},
   "outputs": [
    {
     "data": {
      "text/plain": [
       "nombreAuto\n",
       "1       129\n",
       "26       82\n",
       "113      71\n",
       "124      62\n",
       "418      61\n",
       "       ... \n",
       "1261      1\n",
       "1266      1\n",
       "1267      1\n",
       "1268      1\n",
       "1982      1\n",
       "Name: count, Length: 1982, dtype: int64"
      ]
     },
     "execution_count": 28,
     "metadata": {},
     "output_type": "execute_result"
    }
   ],
   "source": [
    "dfVehiculos['nombreAuto'].value_counts()"
   ]
  },
  {
   "cell_type": "markdown",
   "id": "83f590e8-d42f-438f-8809-61b5c99fe91f",
   "metadata": {},
   "source": [
    "### Variable torque"
   ]
  },
  {
   "cell_type": "code",
   "execution_count": 29,
   "id": "c3490acd-b8ba-4cef-a458-8befe64a8ce2",
   "metadata": {},
   "outputs": [
    {
     "data": {
      "text/plain": [
       "torque\n",
       "190Nm@ 2000rpm             539\n",
       "200Nm@ 1750rpm             445\n",
       "90Nm@ 3500rpm              407\n",
       "113Nm@ 4200rpm             223\n",
       "114Nm@ 4000rpm             171\n",
       "                          ... \n",
       "128Nm@ 3100rpm               1\n",
       "72.9Nm@ 2250rpm              1\n",
       "155 Nm at 1600-2800 rpm      1\n",
       "510Nm@ 1600-2800rpm          1\n",
       "96  Nm at 3000  rpm          1\n",
       "Name: count, Length: 441, dtype: int64"
      ]
     },
     "execution_count": 29,
     "metadata": {},
     "output_type": "execute_result"
    }
   ],
   "source": [
    "dfVehiculos['torque'].value_counts()"
   ]
  },
  {
   "cell_type": "code",
   "execution_count": 30,
   "id": "4afc107b-8596-4d39-807a-167c49295fd8",
   "metadata": {},
   "outputs": [],
   "source": [
    "# Obtener los códigos de factorización para los valores únicos en la columna 'torque'\n",
    "codigos_factorizacion, _ = pd.factorize(dfVehiculos['torque'])\n",
    "\n",
    "# Asignar los códigos de factorización a la columna 'nombreAuto'\n",
    "dfVehiculos['torque'] = codigos_factorizacion + 1  # Sumar 1 para que los códigos comiencen desde 1\n"
   ]
  },
  {
   "cell_type": "code",
   "execution_count": 31,
   "id": "80467264-1ac9-443c-a261-2e926f7bcca9",
   "metadata": {},
   "outputs": [
    {
     "data": {
      "text/plain": [
       "torque\n",
       "1      539\n",
       "15     445\n",
       "25     407\n",
       "57     223\n",
       "56     171\n",
       "      ... \n",
       "347      1\n",
       "340      1\n",
       "334      1\n",
       "332      1\n",
       "441      1\n",
       "Name: count, Length: 441, dtype: int64"
      ]
     },
     "execution_count": 31,
     "metadata": {},
     "output_type": "execute_result"
    }
   ],
   "source": [
    "dfVehiculos['torque'].value_counts()"
   ]
  },
  {
   "cell_type": "markdown",
   "id": "9871489e-8737-4e77-ba13-b76327e03354",
   "metadata": {},
   "source": [
    "## Se identificaran valores atipicos."
   ]
  },
  {
   "cell_type": "code",
   "execution_count": 32,
   "id": "5725c99b-d7fd-4f3a-8085-4240b325cb7c",
   "metadata": {},
   "outputs": [
    {
     "name": "stdout",
     "output_type": "stream",
     "text": [
      "      nombreAuto  Anio  precioVenta  kmRecorridos  combustible  \\\n",
      "0              1  2014       450000        145500            1   \n",
      "1              2  2014       370000        120000            1   \n",
      "2              3  2006       158000        140000            2   \n",
      "3              4  2010       225000        127000            1   \n",
      "4              5  2007       130000        120000            2   \n",
      "...          ...   ...          ...           ...          ...   \n",
      "8123         180  2013       320000        110000            2   \n",
      "8124         297  2007       135000        119000            1   \n",
      "8125         216  2009       382000        120000            1   \n",
      "8126         676  2013       290000         25000            1   \n",
      "8127         676  2013       290000         25000            1   \n",
      "\n",
      "      tipoDeVendedor  transmision  propietario  kilometraje   motor  \\\n",
      "0                  1            1            1        23.40  1248.0   \n",
      "1                  1            1            2        21.14  1498.0   \n",
      "2                  1            1            3        17.70  1497.0   \n",
      "3                  1            1            1        23.00  1396.0   \n",
      "4                  1            1            1        16.10  1298.0   \n",
      "...              ...          ...          ...          ...     ...   \n",
      "8123               1            1            1        18.50  1197.0   \n",
      "8124               1            1            4        16.80  1493.0   \n",
      "8125               1            1            1        19.30  1248.0   \n",
      "8126               1            1            1        23.57  1396.0   \n",
      "8127               1            1            1        23.57  1396.0   \n",
      "\n",
      "      potenciaMaxima  torque  asientos  \n",
      "0              74.00       1       5.0  \n",
      "1             103.52       2       5.0  \n",
      "2              78.00       3       5.0  \n",
      "3              90.00       4       5.0  \n",
      "4              88.20       5       5.0  \n",
      "...              ...     ...       ...  \n",
      "8123           82.85      55       5.0  \n",
      "8124          110.00     139       5.0  \n",
      "8125           73.90       1       5.0  \n",
      "8126           70.00     119       5.0  \n",
      "8127           70.00     119       5.0  \n",
      "\n",
      "[7919 rows x 13 columns]\n"
     ]
    }
   ],
   "source": [
    "print(dfVehiculos)"
   ]
  },
  {
   "cell_type": "code",
   "execution_count": 33,
   "id": "e5a2b99d-f656-49ee-8cbd-2e29568f744e",
   "metadata": {
    "scrolled": true
   },
   "outputs": [
    {
     "data": {
      "image/png": "[encoded data removed]",
      "text/plain": [
       "<Figure size 1000x1500 with 6 Axes>"
      ]
     },
     "metadata": {},
     "output_type": "display_data"
    }
   ],
   "source": [
    "fig, axs = plt.subplots(3, 2, figsize=(10, 15))\n",
    "\n",
    "plt1 = sns.boxplot(dfVehiculos['precioVenta'], ax=axs[0, 0])\n",
    "plt1.set_xlabel('precioVenta', fontsize=12)\n",
    "\n",
    "plt2 = sns.boxplot(dfVehiculos['kmRecorridos'], ax=axs[0, 1])\n",
    "plt2.set_xlabel('kmRecorridos', fontsize=12)\n",
    "\n",
    "plt7 = sns.boxplot(dfVehiculos['kilometraje'], ax=axs[1, 0])\n",
    "plt7.set_xlabel('kilometraje (kmpl)', fontsize=12)\n",
    "\n",
    "plt8 = sns.boxplot(dfVehiculos['motor'], ax=axs[1, 1])\n",
    "plt8.set_xlabel('motor (CC)', fontsize=12)\n",
    "\n",
    "plt9 = sns.boxplot(dfVehiculos['potenciaMaxima'], ax=axs[2, 0])\n",
    "plt9.set_xlabel('potenciaMaxima (bhp)', fontsize=12)\n",
    "\n",
    "plt11 = sns.boxplot(dfVehiculos['asientos'], ax=axs[2, 1])\n",
    "plt11.set_xlabel('asientos', fontsize=12)\n",
    "\n",
    "plt.tight_layout()\n",
    "plt.show()\n"
   ]
  },
  {
   "cell_type": "markdown",
   "id": "e8696b0d-5954-4ef7-89a3-8788f95fdf2f",
   "metadata": {},
   "source": [
    "### Identificar y filtrar valores atipicos en la variable kmRecorridos"
   ]
  },
  {
   "cell_type": "code",
   "execution_count": 34,
   "id": "f58fbb73-b12a-48ca-b47e-789f279f25d1",
   "metadata": {},
   "outputs": [
    {
     "name": "stdout",
     "output_type": "stream",
     "text": [
      "El total de datos atípicos es 3\n"
     ]
    }
   ],
   "source": [
    "#Conteo de Datos Atípicos kmRecorridos\n",
    "\n",
    "nivel_maximo=500000\n",
    "Total_Atipicos=((dfVehiculos['kmRecorridos']>nivel_maximo)).sum()\n",
    "print(\"El total de datos atípicos es {}\".format(Total_Atipicos))"
   ]
  },
  {
   "cell_type": "code",
   "execution_count": 35,
   "id": "05433308-bbd3-46e5-a36c-e738cc7fcc47",
   "metadata": {},
   "outputs": [],
   "source": [
    "# Filtra Datos Atípicos\n",
    "\n",
    "dfVehiculos=dfVehiculos[(dfVehiculos['kmRecorridos']<nivel_maximo)]"
   ]
  },
  {
   "cell_type": "code",
   "execution_count": 36,
   "id": "b0e9bb94-fa23-480a-9cb5-103fa28ff178",
   "metadata": {},
   "outputs": [
    {
     "name": "stdout",
     "output_type": "stream",
     "text": [
      "<class 'pandas.core.frame.DataFrame'>\n",
      "Index: 7914 entries, 0 to 8127\n",
      "Data columns (total 13 columns):\n",
      " #   Column          Non-Null Count  Dtype  \n",
      "---  ------          --------------  -----  \n",
      " 0   nombreAuto      7914 non-null   int64  \n",
      " 1   Anio            7914 non-null   int64  \n",
      " 2   precioVenta     7914 non-null   int64  \n",
      " 3   kmRecorridos    7914 non-null   int64  \n",
      " 4   combustible     7914 non-null   int64  \n",
      " 5   tipoDeVendedor  7914 non-null   int64  \n",
      " 6   transmision     7914 non-null   int64  \n",
      " 7   propietario     7914 non-null   int64  \n",
      " 8   kilometraje     7914 non-null   float64\n",
      " 9   motor           7914 non-null   float64\n",
      " 10  potenciaMaxima  7914 non-null   float64\n",
      " 11  torque          7914 non-null   int64  \n",
      " 12  asientos        7914 non-null   float64\n",
      "dtypes: float64(4), int64(9)\n",
      "memory usage: 865.6 KB\n"
     ]
    }
   ],
   "source": [
    "#Revisión del tipo de datos y datos faltantes\n",
    "\n",
    "dfVehiculos.info()"
   ]
  },
  {
   "cell_type": "code",
   "execution_count": 37,
   "id": "6d4bd4f2-b162-4296-8b72-34b0ad8d2d33",
   "metadata": {},
   "outputs": [
    {
     "data": {
      "text/plain": [
       "Text(0.5, 1.0, 'Identificación de Datos Atípicos kmRecorridos')"
      ]
     },
     "execution_count": 37,
     "metadata": {},
     "output_type": "execute_result"
    },
    {
     "data": {
      "image/png": "[encoded data removed]",
      "text/plain": [
       "<Figure size 600x300 with 1 Axes>"
      ]
     },
     "metadata": {},
     "output_type": "display_data"
    }
   ],
   "source": [
    "#Identificación de Datos Atípicos\n",
    "\n",
    "plt.figure(figsize=(6, 3))\n",
    "sns.boxplot(x=dfVehiculos['kmRecorridos'])\n",
    "plt.title('Identificación de Datos Atípicos kmRecorridos', fontsize=10 )"
   ]
  },
  {
   "cell_type": "markdown",
   "id": "158b5c16-0e2d-4cc7-bdc0-67323788339a",
   "metadata": {},
   "source": [
    "### Identificar y filtrar valores atipicos en la variable potenciaMaxima"
   ]
  },
  {
   "cell_type": "code",
   "execution_count": 38,
   "id": "5bb658d1-d47e-4ad9-85bd-6e72fbefe653",
   "metadata": {},
   "outputs": [
    {
     "name": "stdout",
     "output_type": "stream",
     "text": [
      "El total de datos atípicos es 1\n"
     ]
    }
   ],
   "source": [
    "# Conteo de Datos Atípicos potenciaMaxima\n",
    "nivel_minimo = 30\n",
    "nivel_maximo = 300\n",
    "Total_Atipicos = ((dfVehiculos['potenciaMaxima'] < nivel_minimo) | (dfVehiculos['potenciaMaxima'] > nivel_maximo)).sum()\n",
    "print(\"El total de datos atípicos es {}\".format(Total_Atipicos))\n"
   ]
  },
  {
   "cell_type": "code",
   "execution_count": 39,
   "id": "0dbbdaf7-46cb-447f-b8ba-e72672d48636",
   "metadata": {},
   "outputs": [],
   "source": [
    "# Filtra Datos Atípicos\n",
    "\n",
    "dfVehiculos=dfVehiculos[(dfVehiculos['potenciaMaxima']>nivel_minimo)&(dfVehiculos['potenciaMaxima']<nivel_maximo)]"
   ]
  },
  {
   "cell_type": "code",
   "execution_count": 40,
   "id": "787a8f49-5cce-4639-ae25-35e8d85fb8fd",
   "metadata": {},
   "outputs": [
    {
     "name": "stdout",
     "output_type": "stream",
     "text": [
      "El total de datos atípicos es 0\n"
     ]
    }
   ],
   "source": [
    "# Conteo de Datos Atípicos potenciaMaxima\n",
    "nivel_minimo = 30\n",
    "nivel_maximo = 300\n",
    "Total_Atipicos = ((dfVehiculos['potenciaMaxima'] < nivel_minimo) | (dfVehiculos['potenciaMaxima'] > nivel_maximo)).sum()\n",
    "print(\"El total de datos atípicos es {}\".format(Total_Atipicos))"
   ]
  },
  {
   "cell_type": "code",
   "execution_count": 41,
   "id": "22fd50bb-de73-4b7b-b240-f0d680468280",
   "metadata": {},
   "outputs": [
    {
     "name": "stdout",
     "output_type": "stream",
     "text": [
      "<class 'pandas.core.frame.DataFrame'>\n",
      "Index: 7913 entries, 0 to 8127\n",
      "Data columns (total 13 columns):\n",
      " #   Column          Non-Null Count  Dtype  \n",
      "---  ------          --------------  -----  \n",
      " 0   nombreAuto      7913 non-null   int64  \n",
      " 1   Anio            7913 non-null   int64  \n",
      " 2   precioVenta     7913 non-null   int64  \n",
      " 3   kmRecorridos    7913 non-null   int64  \n",
      " 4   combustible     7913 non-null   int64  \n",
      " 5   tipoDeVendedor  7913 non-null   int64  \n",
      " 6   transmision     7913 non-null   int64  \n",
      " 7   propietario     7913 non-null   int64  \n",
      " 8   kilometraje     7913 non-null   float64\n",
      " 9   motor           7913 non-null   float64\n",
      " 10  potenciaMaxima  7913 non-null   float64\n",
      " 11  torque          7913 non-null   int64  \n",
      " 12  asientos        7913 non-null   float64\n",
      "dtypes: float64(4), int64(9)\n",
      "memory usage: 865.5 KB\n"
     ]
    }
   ],
   "source": [
    "dfVehiculos.info()"
   ]
  },
  {
   "cell_type": "code",
   "execution_count": 42,
   "id": "f9645e3f-5d20-43ea-ac3c-9959db33c2ba",
   "metadata": {},
   "outputs": [
    {
     "data": {
      "text/plain": [
       "Text(0.5, 1.0, 'Identificación de Datos Atípicos potenciaMaxima')"
      ]
     },
     "execution_count": 42,
     "metadata": {},
     "output_type": "execute_result"
    },
    {
     "data": {
      "image/png": "[encoded data removed]",
      "text/plain": [
       "<Figure size 600x300 with 1 Axes>"
      ]
     },
     "metadata": {},
     "output_type": "display_data"
    }
   ],
   "source": [
    "#Identificación de Datos Atípicos\n",
    "\n",
    "plt.figure(figsize=(6, 3))\n",
    "sns.boxplot(x=dfVehiculos['potenciaMaxima'])\n",
    "plt.title('Identificación de Datos Atípicos potenciaMaxima', fontsize=10 )"
   ]
  },
  {
   "cell_type": "markdown",
   "id": "b20c48c0-904a-4b29-8313-758e40c939b2",
   "metadata": {},
   "source": [
    "### Identificar y filtrar valores atipicos en la variable kilometraje"
   ]
  },
  {
   "cell_type": "code",
   "execution_count": 43,
   "id": "83a85667-efb1-4bde-ac74-ca759f5b5cee",
   "metadata": {},
   "outputs": [
    {
     "name": "stdout",
     "output_type": "stream",
     "text": [
      "El total de datos atípicos es 8\n"
     ]
    }
   ],
   "source": [
    "#Conteo de Datos Atípicos kmRecorridos\n",
    "\n",
    "nivel_maximo=30\n",
    "Total_Atipicos=((dfVehiculos['kilometraje']>nivel_maximo)).sum()\n",
    "print(\"El total de datos atípicos es {}\".format(Total_Atipicos))"
   ]
  },
  {
   "cell_type": "code",
   "execution_count": 44,
   "id": "dd54b50a-614b-4625-b37b-c5e4726d5d4f",
   "metadata": {},
   "outputs": [],
   "source": [
    "# Filtra Datos Atípicos\n",
    "\n",
    "dfVehiculos=dfVehiculos[(dfVehiculos['kilometraje']<nivel_maximo)]"
   ]
  },
  {
   "cell_type": "code",
   "execution_count": 45,
   "id": "b9983fa3-509d-456d-880a-9f6fbce89f39",
   "metadata": {},
   "outputs": [
    {
     "name": "stdout",
     "output_type": "stream",
     "text": [
      "<class 'pandas.core.frame.DataFrame'>\n",
      "Index: 7905 entries, 0 to 8127\n",
      "Data columns (total 13 columns):\n",
      " #   Column          Non-Null Count  Dtype  \n",
      "---  ------          --------------  -----  \n",
      " 0   nombreAuto      7905 non-null   int64  \n",
      " 1   Anio            7905 non-null   int64  \n",
      " 2   precioVenta     7905 non-null   int64  \n",
      " 3   kmRecorridos    7905 non-null   int64  \n",
      " 4   combustible     7905 non-null   int64  \n",
      " 5   tipoDeVendedor  7905 non-null   int64  \n",
      " 6   transmision     7905 non-null   int64  \n",
      " 7   propietario     7905 non-null   int64  \n",
      " 8   kilometraje     7905 non-null   float64\n",
      " 9   motor           7905 non-null   float64\n",
      " 10  potenciaMaxima  7905 non-null   float64\n",
      " 11  torque          7905 non-null   int64  \n",
      " 12  asientos        7905 non-null   float64\n",
      "dtypes: float64(4), int64(9)\n",
      "memory usage: 864.6 KB\n"
     ]
    }
   ],
   "source": [
    "#Revisión del tipo de datos y datos faltantes\n",
    "\n",
    "dfVehiculos.info()"
   ]
  },
  {
   "cell_type": "code",
   "execution_count": 46,
   "id": "dcad6d05-fdec-44b9-a308-44db22eb7061",
   "metadata": {},
   "outputs": [
    {
     "data": {
      "text/plain": [
       "Text(0.5, 1.0, 'Identificación de Datos Atípicos kilometraje')"
      ]
     },
     "execution_count": 46,
     "metadata": {},
     "output_type": "execute_result"
    },
    {
     "data": {
      "image/png": "[encoded data removed]",
      "text/plain": [
       "<Figure size 600x300 with 1 Axes>"
      ]
     },
     "metadata": {},
     "output_type": "display_data"
    }
   ],
   "source": [
    "#Identificación de Datos Atípicos\n",
    "\n",
    "plt.figure(figsize=(6, 3))\n",
    "sns.boxplot(x=dfVehiculos['kilometraje'])\n",
    "plt.title('Identificación de Datos Atípicos kilometraje', fontsize=10 )"
   ]
  },
  {
   "cell_type": "markdown",
   "id": "8f8f9cf7-444d-422e-a2ee-ce235d83f96f",
   "metadata": {},
   "source": [
    "### Revision datos faltantes"
   ]
  },
  {
   "cell_type": "code",
   "execution_count": 47,
   "id": "ec07a477-4ef5-456a-9411-b8efe5daf42c",
   "metadata": {},
   "outputs": [
    {
     "name": "stdout",
     "output_type": "stream",
     "text": [
      "Cantidad de Registros con cero en motor:  0\n",
      "Cantidad de Registros con cero en potenciaMaxima:  0\n",
      "Cantidad de Registros con cero en asientos:  0\n"
     ]
    }
   ],
   "source": [
    "#Revisión de datos faltantes\n",
    "\n",
    "print(\"Cantidad de Registros con cero en motor: \",dfVehiculos['motor'].isin([0]).sum())\n",
    "print(\"Cantidad de Registros con cero en potenciaMaxima: \",dfVehiculos['potenciaMaxima'].isin([0]).sum())\n",
    "print(\"Cantidad de Registros con cero en asientos: \",dfVehiculos['potenciaMaxima'].isin([0]).sum())"
   ]
  },
  {
   "cell_type": "code",
   "execution_count": 48,
   "id": "7b834af3-2cc6-4d48-bf80-725d0b9f3804",
   "metadata": {
    "scrolled": true
   },
   "outputs": [
    {
     "name": "stdout",
     "output_type": "stream",
     "text": [
      "<class 'pandas.core.frame.DataFrame'>\n",
      "Index: 7905 entries, 0 to 8127\n",
      "Data columns (total 13 columns):\n",
      " #   Column          Non-Null Count  Dtype  \n",
      "---  ------          --------------  -----  \n",
      " 0   nombreAuto      7905 non-null   int64  \n",
      " 1   Anio            7905 non-null   int64  \n",
      " 2   precioVenta     7905 non-null   int64  \n",
      " 3   kmRecorridos    7905 non-null   int64  \n",
      " 4   combustible     7905 non-null   int64  \n",
      " 5   tipoDeVendedor  7905 non-null   int64  \n",
      " 6   transmision     7905 non-null   int64  \n",
      " 7   propietario     7905 non-null   int64  \n",
      " 8   kilometraje     7905 non-null   float64\n",
      " 9   motor           7905 non-null   float64\n",
      " 10  potenciaMaxima  7905 non-null   float64\n",
      " 11  torque          7905 non-null   int64  \n",
      " 12  asientos        7905 non-null   float64\n",
      "dtypes: float64(4), int64(9)\n",
      "memory usage: 864.6 KB\n"
     ]
    },
    {
     "data": {
      "text/html": [
       "<div>\n",
       "<style scoped>\n",
       "    .dataframe tbody tr th:only-of-type {\n",
       "        vertical-align: middle;\n",
       "    }\n",
       "\n",
       "    .dataframe tbody tr th {\n",
       "        vertical-align: top;\n",
       "    }\n",
       "\n",
       "    .dataframe thead th {\n",
       "        text-align: right;\n",
       "    }\n",
       "</style>\n",
       "<table border=\"1\" class=\"dataframe\">\n",
       "  <thead>\n",
       "    <tr style=\"text-align: right;\">\n",
       "      <th></th>\n",
       "      <th>nombreAuto</th>\n",
       "      <th>Anio</th>\n",
       "      <th>precioVenta</th>\n",
       "      <th>kmRecorridos</th>\n",
       "      <th>combustible</th>\n",
       "      <th>tipoDeVendedor</th>\n",
       "      <th>transmision</th>\n",
       "      <th>propietario</th>\n",
       "      <th>kilometraje</th>\n",
       "      <th>motor</th>\n",
       "      <th>potenciaMaxima</th>\n",
       "      <th>torque</th>\n",
       "      <th>asientos</th>\n",
       "    </tr>\n",
       "  </thead>\n",
       "  <tbody>\n",
       "    <tr>\n",
       "      <th>0</th>\n",
       "      <td>1</td>\n",
       "      <td>2014</td>\n",
       "      <td>450000</td>\n",
       "      <td>145500</td>\n",
       "      <td>1</td>\n",
       "      <td>1</td>\n",
       "      <td>1</td>\n",
       "      <td>1</td>\n",
       "      <td>23.40</td>\n",
       "      <td>1248.0</td>\n",
       "      <td>74.00</td>\n",
       "      <td>1</td>\n",
       "      <td>5.0</td>\n",
       "    </tr>\n",
       "    <tr>\n",
       "      <th>1</th>\n",
       "      <td>2</td>\n",
       "      <td>2014</td>\n",
       "      <td>370000</td>\n",
       "      <td>120000</td>\n",
       "      <td>1</td>\n",
       "      <td>1</td>\n",
       "      <td>1</td>\n",
       "      <td>2</td>\n",
       "      <td>21.14</td>\n",
       "      <td>1498.0</td>\n",
       "      <td>103.52</td>\n",
       "      <td>2</td>\n",
       "      <td>5.0</td>\n",
       "    </tr>\n",
       "    <tr>\n",
       "      <th>2</th>\n",
       "      <td>3</td>\n",
       "      <td>2006</td>\n",
       "      <td>158000</td>\n",
       "      <td>140000</td>\n",
       "      <td>2</td>\n",
       "      <td>1</td>\n",
       "      <td>1</td>\n",
       "      <td>3</td>\n",
       "      <td>17.70</td>\n",
       "      <td>1497.0</td>\n",
       "      <td>78.00</td>\n",
       "      <td>3</td>\n",
       "      <td>5.0</td>\n",
       "    </tr>\n",
       "  </tbody>\n",
       "</table>\n",
       "</div>"
      ],
      "text/plain": [
       "   nombreAuto  Anio  precioVenta  kmRecorridos  combustible  tipoDeVendedor  \\\n",
       "0           1  2014       450000        145500            1               1   \n",
       "1           2  2014       370000        120000            1               1   \n",
       "2           3  2006       158000        140000            2               1   \n",
       "\n",
       "   transmision  propietario  kilometraje   motor  potenciaMaxima  torque  \\\n",
       "0            1            1        23.40  1248.0           74.00       1   \n",
       "1            1            2        21.14  1498.0          103.52       2   \n",
       "2            1            3        17.70  1497.0           78.00       3   \n",
       "\n",
       "   asientos  \n",
       "0       5.0  \n",
       "1       5.0  \n",
       "2       5.0  "
      ]
     },
     "execution_count": 48,
     "metadata": {},
     "output_type": "execute_result"
    }
   ],
   "source": [
    "# Validar la data actual.\n",
    "dfVehiculos.info()\n",
    "dfVehiculos.head(3)"
   ]
  },
  {
   "cell_type": "markdown",
   "id": "3cc8bb23-6649-4550-901f-87c4a30aef66",
   "metadata": {},
   "source": [
    "# 3.Seleccionar las características más relevantes para entrenar el modelo utilizando selección de características"
   ]
  },
  {
   "cell_type": "markdown",
   "id": "e173529a-1161-4cbd-868a-198eae267ec1",
   "metadata": {},
   "source": [
    "### Caracteristica de interes:"
   ]
  },
  {
   "cell_type": "markdown",
   "id": "7cca2412-8934-4a6f-9965-16a96ad8edf6",
   "metadata": {},
   "source": [
    "#### precioVenta: probabilidad del precio con respecto a otra variables.\n",
    "#### precioVenta: predecir el precio de un auto."
   ]
  },
  {
   "cell_type": "code",
   "execution_count": 49,
   "id": "e26a3f61-d4ca-406d-b37c-e819b94354f6",
   "metadata": {},
   "outputs": [
    {
     "data": {
      "text/plain": [
       "precioVenta\n",
       "300000     221\n",
       "600000     211\n",
       "350000     204\n",
       "550000     203\n",
       "450000     194\n",
       "          ... \n",
       "486000       1\n",
       "1670000      1\n",
       "7200000      1\n",
       "174000       1\n",
       "746000       1\n",
       "Name: count, Length: 667, dtype: int64"
      ]
     },
     "execution_count": 49,
     "metadata": {},
     "output_type": "execute_result"
    }
   ],
   "source": [
    "dfVehiculos['precioVenta'].value_counts()"
   ]
  },
  {
   "cell_type": "code",
   "execution_count": 50,
   "id": "ed528d48-0cb4-4fa0-9254-09f595f78d07",
   "metadata": {
    "scrolled": true
   },
   "outputs": [
    {
     "data": {
      "image/png": "[encoded data removed]",
      "text/plain": [
       "<Figure size 640x480 with 1 Axes>"
      ]
     },
     "metadata": {},
     "output_type": "display_data"
    }
   ],
   "source": [
    "#dfVehiculos['precioVenta'].value_counts()\n",
    "\n",
    "# Crear el histograma\n",
    "plt.hist(dfVehiculos['precioVenta'], bins=20, color='skyblue', edgecolor='black')\n",
    "\n",
    "# Agregar etiquetas y título\n",
    "plt.xlabel('Precio de Venta')\n",
    "plt.ylabel('Frecuencia')\n",
    "plt.title('Precio de Venta')\n",
    "\n",
    "# Mostrar el histograma\n",
    "plt.show()"
   ]
  },
  {
   "cell_type": "code",
   "execution_count": 51,
   "id": "4ae51f59-a241-4138-b2fc-62a1d2e1ef0f",
   "metadata": {},
   "outputs": [
    {
     "data": {
      "text/plain": [
       "0    450000\n",
       "1    370000\n",
       "2    158000\n",
       "3    225000\n",
       "4    130000\n",
       "Name: precioVenta, dtype: int64"
      ]
     },
     "execution_count": 51,
     "metadata": {},
     "output_type": "execute_result"
    }
   ],
   "source": [
    "dfVehiculos['precioVenta'].head(5)"
   ]
  },
  {
   "cell_type": "markdown",
   "id": "c46d03ce-d624-4cc1-9132-3bc3c8be77b7",
   "metadata": {},
   "source": [
    "# 4. Dividir el dataset en Train y Test para evaluar correctamente el modelo"
   ]
  },
  {
   "cell_type": "code",
   "execution_count": 52,
   "id": "227637f7-4800-4c53-98a5-cefc36b1fe88",
   "metadata": {},
   "outputs": [],
   "source": [
    "# Porcentaje de datos para entrenamiento (train) = 75% , y para prueba (test) = 25%\n",
    "\n",
    "# Se crean variables X y Y para almacenar la información del entrenamiento\n",
    "\n",
    "X = dfVehiculos.drop('precioVenta',axis=1) # Se cargan los datos de train sin los datos de la columna precioVenta\n",
    "Y = dfVehiculos['precioVenta'] # Se cargan los datos de train con los datos de la la columna precioVenta\n",
    "\n",
    "#La función train_test_split crea una división de un conjunto de datos en dos bloques uno de entrenamiento y otro de prueba (train and test)\n",
    "X_train, X_test, Y_train, Y_test = train_test_split(X, Y, test_size=0.25, stratify=None, random_state= 0)"
   ]
  },
  {
   "cell_type": "code",
   "execution_count": 53,
   "id": "db59f9f3-f840-4d09-ae4e-a1a42c20c3fd",
   "metadata": {},
   "outputs": [
    {
     "name": "stdout",
     "output_type": "stream",
     "text": [
      "      nombreAuto  Anio  kmRecorridos  combustible  tipoDeVendedor  \\\n",
      "1681          26  2016         65000            2               1   \n",
      "4662        1378  2016        100000            1               1   \n",
      "6690         118  2019         20000            2               2   \n",
      "4563        1492  2005         80000            2               1   \n",
      "3331         909  2012         90000            1               1   \n",
      "...          ...   ...           ...          ...             ...   \n",
      "5074         165  2011        105000            2               1   \n",
      "3362        1290  2016         56239            1               2   \n",
      "1702         184  2015         15200            2               1   \n",
      "2691        1134  2013         60000            2               1   \n",
      "2818          38  2001         42108            2               1   \n",
      "\n",
      "      transmision  propietario  kilometraje   motor  potenciaMaxima  torque  \\\n",
      "1681            1            2        22.74   796.0           47.30      20   \n",
      "4662            1            1        27.28  1047.0           69.00     119   \n",
      "6690            2            1        22.37  2487.0          214.56      72   \n",
      "4563            1            3        15.90  1298.0           85.00     370   \n",
      "3331            1            2        20.46  1461.0           83.80      66   \n",
      "...           ...          ...          ...     ...             ...     ...   \n",
      "5074            1            1        17.00  1497.0          118.00      99   \n",
      "3362            1            1        22.54  1396.0           88.73      17   \n",
      "1702            1            1        25.17   799.0           53.30     104   \n",
      "2691            1            2        22.74   796.0           47.30      20   \n",
      "2818            1            1        16.10   796.0           37.00       8   \n",
      "\n",
      "      asientos  \n",
      "1681       5.0  \n",
      "4662       5.0  \n",
      "6690       5.0  \n",
      "4563       5.0  \n",
      "3331       5.0  \n",
      "...        ...  \n",
      "5074       5.0  \n",
      "3362       5.0  \n",
      "1702       5.0  \n",
      "2691       5.0  \n",
      "2818       4.0  \n",
      "\n",
      "[5928 rows x 12 columns]\n"
     ]
    }
   ],
   "source": [
    "print (X_train)"
   ]
  },
  {
   "cell_type": "code",
   "execution_count": 54,
   "id": "18117dad-96dd-4809-8553-a68e44ac9b9c",
   "metadata": {},
   "outputs": [
    {
     "name": "stdout",
     "output_type": "stream",
     "text": [
      "1681     260000\n",
      "4662     490000\n",
      "6690    5150000\n",
      "4563      93000\n",
      "3331     545000\n",
      "         ...   \n",
      "5074     421000\n",
      "3362     570000\n",
      "1702     290000\n",
      "2691     190000\n",
      "2818      39000\n",
      "Name: precioVenta, Length: 5928, dtype: int64\n"
     ]
    }
   ],
   "source": [
    "print (Y_train)\n"
   ]
  },
  {
   "cell_type": "markdown",
   "id": "b759fb8c-0617-4c42-a4c1-9d296f0f2d3b",
   "metadata": {},
   "source": [
    "# 5. Entrenar el modelo configurando los diferentes hiperparámetros."
   ]
  },
  {
   "cell_type": "code",
   "execution_count": 55,
   "id": "887f8606-1794-4ea3-9cd0-3afeaf32539d",
   "metadata": {},
   "outputs": [],
   "source": [
    "# Construir el modelo de regresión lineal\n",
    "modelo_regresion = LinearRegression()\n",
    "\n",
    "# Entrenar el modelo\n",
    "modelo_regresion.fit(X_train, Y_train)\n",
    "\n",
    "# Crea el modelo de predicción\n",
    "Prediccion = modelo_regresion.predict(X_test)"
   ]
  },
  {
   "cell_type": "code",
   "execution_count": 56,
   "id": "a4b73690-f630-4962-9386-1ba4e7886f9d",
   "metadata": {},
   "outputs": [
    {
     "name": "stdout",
     "output_type": "stream",
     "text": [
      "[ 805106.39122405  214582.19366965  164824.05016506 ... 3857757.49809352\n",
      " 1102774.2034391   981015.4970016 ]\n"
     ]
    }
   ],
   "source": [
    "print (Prediccion)"
   ]
  },
  {
   "cell_type": "markdown",
   "id": "ffbbd9ce-f7e5-4624-bc58-2e20cc2bd0b1",
   "metadata": {},
   "source": [
    "# 6. Evaluar el desempeño del modelo en el conjunto de Test con métricas como precisión, recall, F1-score, etc."
   ]
  },
  {
   "cell_type": "code",
   "execution_count": 57,
   "id": "1087d82b-0537-4f74-a916-ee3e2c407086",
   "metadata": {},
   "outputs": [
    {
     "name": "stdout",
     "output_type": "stream",
     "text": [
      "Error cuadrático medio: 227155552308.91666\n"
     ]
    }
   ],
   "source": [
    "# Calcular el error cuadrático medio\n",
    "mse = mean_squared_error(Y_test, Prediccion)\n",
    "\n",
    "# Imprimir el error cuadrático medio\n",
    "print(\"Error cuadrático medio:\", mse)"
   ]
  },
  {
   "cell_type": "code",
   "execution_count": 58,
   "id": "8efbddee-1471-4172-a2a0-6e0edeaa8c20",
   "metadata": {},
   "outputs": [
    {
     "data": {
      "text/plain": [
       "0.672688248187107"
      ]
     },
     "execution_count": 58,
     "metadata": {},
     "output_type": "execute_result"
    }
   ],
   "source": [
    "r2_score(Y_test, Prediccion)"
   ]
  },
  {
   "cell_type": "markdown",
   "id": "13e7ed95-6743-4e99-b60d-ff6bff635b46",
   "metadata": {},
   "source": [
    "# 7. Realizar las diferentes gráficas que permitan visualizar los resultados del modelo."
   ]
  },
  {
   "cell_type": "markdown",
   "id": "c6f24c07-f990-4b9e-a141-2964dac95430",
   "metadata": {},
   "source": [
    "### Diagrama de dispersión."
   ]
  },
  {
   "cell_type": "markdown",
   "id": "24ffa7a7-7e69-47c7-8bb6-c3ff6a7119bc",
   "metadata": {},
   "source": [
    "##### Nos permitirá visualizar cómo se ajustan las predicciones del modelo a los valores reales."
   ]
  },
  {
   "cell_type": "code",
   "execution_count": 59,
   "id": "12fac055-41be-4515-b559-7fe319e06dd8",
   "metadata": {},
   "outputs": [
    {
     "data": {
      "image/png": "[encoded data removed]",
      "text/plain": [
       "<Figure size 640x480 with 1 Axes>"
      ]
     },
     "metadata": {},
     "output_type": "display_data"
    }
   ],
   "source": [
    "plt.scatter(Y_test, Prediccion)\n",
    "plt.xlabel('Valores Reales')\n",
    "plt.ylabel('Valores Predichos')\n",
    "plt.title('Diagrama de Dispersión: Valores Reales vs. Valores Predichos')\n",
    "plt.show()"
   ]
  },
  {
   "cell_type": "markdown",
   "id": "56f2490e-51ff-45d9-aac0-09471d0484c8",
   "metadata": {},
   "source": [
    "### Histograma de Residuos"
   ]
  },
  {
   "cell_type": "markdown",
   "id": "ca65e7cc-0a8b-418f-b023-9261390c189b",
   "metadata": {},
   "source": [
    "##### Un histograma de residuos nos ayudarará a evaluar si los residuos siguen una distribución normal, lo que es deseable en un buen modelo."
   ]
  },
  {
   "cell_type": "code",
   "execution_count": 60,
   "id": "32097493-4939-4c7b-975c-3ddf687becf2",
   "metadata": {},
   "outputs": [
    {
     "data": {
      "image/png": "[encoded data removed]",
      "text/plain": [
       "<Figure size 640x480 with 1 Axes>"
      ]
     },
     "metadata": {},
     "output_type": "display_data"
    }
   ],
   "source": [
    "residuos = Y_test - Prediccion\n",
    "plt.hist(residuos, bins=20, color='skyblue', edgecolor='black')\n",
    "plt.xlabel('Residuos')\n",
    "plt.ylabel('Frecuencia')\n",
    "plt.title('Histograma de Residuos')\n",
    "plt.show()"
   ]
  },
  {
   "cell_type": "markdown",
   "id": "f8c8dd26-3ea6-40de-88d0-d10728ee0fca",
   "metadata": {},
   "source": [
    "### Gráfico de Línea de Regresión"
   ]
  },
  {
   "cell_type": "markdown",
   "id": "e05862d1-ca82-42d0-bb2e-b4b707081e1f",
   "metadata": {},
   "source": [
    "##### Una línea de regresión muestra cómo se ajusta el modelo a los datos de prueba."
   ]
  },
  {
   "cell_type": "code",
   "execution_count": 61,
   "id": "7e4e98cc-e319-4ab4-a0f5-9e48da756537",
   "metadata": {},
   "outputs": [
    {
     "data": {
      "image/png": "[encoded data removed]",
      "text/plain": [
       "<Figure size 640x480 with 1 Axes>"
      ]
     },
     "metadata": {},
     "output_type": "display_data"
    }
   ],
   "source": [
    "plt.plot(Y_test, label='Valores Reales')\n",
    "plt.plot(Prediccion, label='Valores Predichos')\n",
    "plt.xlabel('Índice de Muestra')\n",
    "plt.ylabel('Valor')\n",
    "plt.title('Gráfico de Línea de Regresión')\n",
    "plt.legend()\n",
    "plt.show()"
   ]
  },
  {
   "cell_type": "markdown",
   "id": "e079a3f8-9b3f-47e6-b3d0-c7100b7142b0",
   "metadata": {},
   "source": [
    "### Gráfico de Densidad de Probabilidad"
   ]
  },
  {
   "cell_type": "markdown",
   "id": "5c1f1183-0d84-4342-8dcd-836cbb931db0",
   "metadata": {},
   "source": [
    "##### Este gráfico muestra la densidad de probabilidad de los valores reales y predichos, lo que puede ser útil para comparar sus distribuciones."
   ]
  },
  {
   "cell_type": "code",
   "execution_count": 62,
   "id": "d8cfb8f8-5392-45f8-8ce0-6b4d22683016",
   "metadata": {},
   "outputs": [
    {
     "data": {
      "image/png": "[encoded data removed]",
      "text/plain": [
       "<Figure size 640x480 with 1 Axes>"
      ]
     },
     "metadata": {},
     "output_type": "display_data"
    }
   ],
   "source": [
    "sns.kdeplot(Y_test, label='Valores Reales', color='blue')\n",
    "sns.kdeplot(Prediccion, label='Valores Predichos', color='red')\n",
    "plt.xlabel('Valor')\n",
    "plt.ylabel('Densidad de Probabilidad')\n",
    "plt.title('Gráfico de Densidad de Probabilidad')\n",
    "plt.legend()\n",
    "plt.show()"
   ]
  },
  {
   "cell_type": "markdown",
   "id": "5ed1e519-e68b-491d-b6c5-5ec2c649832e",
   "metadata": {},
   "source": [
    "# 8. Interpretar, analizar y documentar los resultados obtenidos."
   ]
  },
  {
   "cell_type": "markdown",
   "id": "b57bfeca-4060-4c69-88e7-7e98a48e468f",
   "metadata": {},
   "source": [
    "##### \n",
    "Del desempeño del modelo se puede describir:\r\n",
    "\r\n",
    "Diagrama de Dispersión (Valores Reales vs. Valores Predichos):\r\n",
    "   - Idealmente, los puntos estarían cerca de una línea diagonal, lo que indicaría una buena predicción. Sin embargo, hay dispersión alrededor de esta línea, lo que sugiere que el modelo no es perfecto, pero sigue una tendencia general.\r\n",
    "\r\n",
    "Histograma de Residuos:\r\n",
    "   - En este caso, parece haber una distribución normal centrada en cero, lo que indica que el modelo está capturando la tendencia general de los datos.\r\n",
    "\r\n",
    "Gráfico de Línea de Regresión:\r\n",
    "   - La línea de regresión muestra cómo se ajustan los valores predichos por el modelo a los datos de prueba. Sin embargo, la dispersión alrededor de esta línea sugiere que el modelo no captura perfectamente todas las variaciones en los datos.\r\n",
    "\r\n",
    "Gráfico de Densidad de Probabilidad:\r\n",
    "   - Se puede observar que la densidad de probabilidad de los valores predichos sigue la misma tendencia que la de los valores reales, lo que indica que el modelo está capturando la distribución de los datos de manera efectiva.\r\n",
    "\r\n",
    "Error Cuadrático Medio (MSE):\r\n",
    "   - El error cuadrático medio calculado es de aproximadamente 227155552308.91666.\r\n",
    "   - El MSE es una medida de la calidad del ajuste del modelo a los datos. Cuanto menor sea el MSE, mejor será el ajuste del modelo. En este caso, el MSE parece ser bastante alto, lo que sugiere que el modelo podría mejorar en términos de precisión de las predicciones.\r\n",
    "\r\n",
    "Coeficiente de Determinación (R^2 score):\r\n",
    "   - El R^2 score es aproximadamente 0.67, lo que indica que el modelo explica aproximadamente el 67% de la variabilidad de los datos, lo cual sugiere un ajuste moderado del modelo a los datos.\r\n",
    "\r\n",
    "Se puede concluir, que, aunque el modelo de regresión lineal parece capturar la tendencia general de los datos, hay margen para mejorar en términos de precisión de las predicciones, ya que el error cuadrático medio es bastante alto. Sería beneficioso explorar métodos de mejora del modelo, como la selección de características, la ingeniería de características o la exploración de modelos más complejos.\r\n"
   ]
  },
  {
   "cell_type": "markdown",
   "id": "d0217e91-0ec2-4313-b436-041da3a8181c",
   "metadata": {},
   "source": [
    "# 9. Crear una cuenta en GitHub y cargar los códigos de los modelos diseñados https://github.com/"
   ]
  }
 ],
 "metadata": {
  "kernelspec": {
   "display_name": "Python 3 (ipykernel)",
   "language": "python",
   "name": "python3"
  },
  "language_info": {
   "codemirror_mode": {
    "name": "ipython",
    "version": 3
   },
   "file_extension": ".py",
   "mimetype": "text/x-python",
   "name": "python",
   "nbconvert_exporter": "python",
   "pygments_lexer": "ipython3",
   "version": "3.11.5"
  }
 },
 "nbformat": 4,
 "nbformat_minor": 5
}
